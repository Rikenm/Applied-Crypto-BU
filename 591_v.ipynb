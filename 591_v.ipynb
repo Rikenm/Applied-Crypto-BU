{
 "cells": [
  {
   "cell_type": "code",
   "execution_count": 2,
   "metadata": {
    "collapsed": true
   },
   "outputs": [],
   "source": [
    "from operator import xor\n"
   ]
  },
  {
   "cell_type": "code",
   "execution_count": 3,
   "metadata": {
    "collapsed": true
   },
   "outputs": [],
   "source": [
    "dict_f ={\"0\":\"6\",\"1\":\"4\",\"2\":\"c\",\"3\":\"5\",\"4\":\"0\",\"5\":\"7\",\"6\":\"2\",\"7\":\"e\",\"8\":\"1\",\"9\":\"f\",\"a\":\"3\",\"b\":\"d\",\"c\":\"8\",\"d\":\"a\",\"e\":\"9\",\"f\":\"b\"}\n",
    "dict_inv ={\"6\":\"0\",\"4\":\"1\",\"c\":\"2\",\"5\":\"3\",\"0\":\"4\",\"7\":\"5\",\"2\":\"6\",\"e\":\"7\",\"1\":\"8\",\"f\":\"9\",\"3\":\"a\",\"d\":\"b\",\"8\":\"c\",\"a\":\"d\",\"9\":\"e\",\"b\":\"f\"}"
   ]
  },
  {
   "cell_type": "code",
   "execution_count": 4,
   "metadata": {
    "collapsed": true
   },
   "outputs": [],
   "source": [
    "def mimtm_2TOY(v,x):\n",
    "    \n",
    "    v = v[-1].lower()\n",
    "    x = x[-1].lower()\n",
    "    \n",
    "    w_1={}\n",
    "    w_2={}\n",
    "    \n",
    "    #w_1=[]\n",
    "    #w_2=[]\n",
    "    \n",
    "    list_1 = []\n",
    "    \n",
    "    for i in range(16):\n",
    "        \n",
    "        \n",
    "        \n",
    "        w_1[TOY(v,byte_2_hex(str(i)))] = byte_2_hex(str(i))\n",
    "        w_2[TOY_Inv(x,byte_2_hex(str(i)))]=  byte_2_hex(str(i))\n",
    "        \n",
    "        list_1.append(TOY(v,byte_2_hex(str(i))))\n",
    "    \n",
    "        #item = (TOY(v,byte_2_hex(str(i))),byte_2_hex(str(i)))\n",
    "        #item_2 = (TOY_Inv(x,byte_2_hex(str(i))),byte_2_hex(str(i)))\n",
    "        #w_1.append(item)\n",
    "        #w_2.append(item_2)\n",
    "        \n",
    "    print(w_1)\n",
    "    print(\"------\")\n",
    "    print(w_2)\n",
    "    \n",
    "    print(\"----\")\n",
    "    print(list_1)\n",
    "    \n",
    "    answer=\"\"\n",
    "    for i in list_1:\n",
    "        answer+=w_1[i]+w_2[i]\n",
    "        \n",
    "    return answer    \n",
    "    \n",
    "    \n",
    "   \n",
    "                        \n",
    "                                  \n",
    "                                  \n",
    "    \n",
    "    "
   ]
  },
  {
   "cell_type": "code",
   "execution_count": 25,
   "metadata": {},
   "outputs": [
    {
     "name": "stdout",
     "output_type": "stream",
     "text": [
      "{'a': '7', 'c': '8', 'b': '5', 'e': 'd', 'd': '1', 'f': '3', '1': '2', '0': 'e', '3': '0', '2': 'c', '5': '9', '4': 'b', '7': 'f', '6': 'a', '9': '4', '8': '6'}\n",
      "------\n",
      "{'a': '5', 'c': '3', 'b': '4', 'e': '1', 'd': '2', 'f': '0', '1': 'e', '0': 'f', '3': 'c', '2': 'd', '5': 'a', '4': 'b', '7': '8', '6': '9', '9': '6', '8': '7'}\n",
      "----\n",
      "['3', 'd', '1', 'f', '9', 'b', '8', 'a', 'c', '5', '6', '4', '2', 'e', '0', '7']\n"
     ]
    },
    {
     "data": {
      "text/plain": [
       "'0c122e3046546775839aa9bbcdd1eff8'"
      ]
     },
     "execution_count": 25,
     "metadata": {},
     "output_type": "execute_result"
    }
   ],
   "source": [
    "mimtm_2TOY(\"a\",\"b\")"
   ]
  },
  {
   "cell_type": "code",
   "execution_count": 6,
   "metadata": {
    "collapsed": true
   },
   "outputs": [],
   "source": [
    "def TOY(v,key):\n",
    "   v = hex_2_byte(v)   #byte form\n",
    "   key = hex_2_byte(key)\n",
    "   \n",
    "   answer = dict_f[byte_2_hex(str(v^key))] \n",
    "   return(answer)\n",
    "    \n",
    "    \n",
    "    \n",
    "    \n",
    "    "
   ]
  },
  {
   "cell_type": "code",
   "execution_count": 7,
   "metadata": {
    "collapsed": true
   },
   "outputs": [],
   "source": [
    "def TOY_Inv(w,key):\n",
    "           #byte form\n",
    "        dict_value = hex_2_byte(dict_inv[w])\n",
    "        key = hex_2_byte(key)    #int(f) is not f integer\n",
    "        answer = dict_value^(key)\n",
    "        return(byte_2_hex(str(answer)))\n",
    "    \n"
   ]
  },
  {
   "cell_type": "code",
   "execution_count": 17,
   "metadata": {},
   "outputs": [
    {
     "data": {
      "text/plain": [
       "'d'"
      ]
     },
     "execution_count": 17,
     "metadata": {},
     "output_type": "execute_result"
    }
   ],
   "source": [
    "dict_f[byte_2_hex(str(hex_2_byte(\"b\")^hex_2_byte(\"0\")))]\n"
   ]
  },
  {
   "cell_type": "code",
   "execution_count": 18,
   "metadata": {},
   "outputs": [
    {
     "data": {
      "text/plain": [
       "'7'"
      ]
     },
     "execution_count": 18,
     "metadata": {},
     "output_type": "execute_result"
    }
   ],
   "source": [
    "dict_f[byte_2_hex(\"5\")]"
   ]
  },
  {
   "cell_type": "code",
   "execution_count": 19,
   "metadata": {},
   "outputs": [
    {
     "data": {
      "text/plain": [
       "'8'"
      ]
     },
     "execution_count": 19,
     "metadata": {},
     "output_type": "execute_result"
    }
   ],
   "source": [
    "byte_2_hex(str(hex_2_byte(dict_inv[\"f\"])^hex_2_byte(\"1\")))"
   ]
  },
  {
   "cell_type": "code",
   "execution_count": 28,
   "metadata": {},
   "outputs": [
    {
     "name": "stdout",
     "output_type": "stream",
     "text": [
      "f\n"
     ]
    }
   ],
   "source": [
    "x = TOY_Inv(\"9\",\"1\")\n",
    "print(x)\n",
    "\n"
   ]
  },
  {
   "cell_type": "code",
   "execution_count": 21,
   "metadata": {
    "collapsed": true
   },
   "outputs": [],
   "source": [
    "#bytes to hex \n",
    "\n",
    "def byte_2_hex(my_input):\n",
    "\n",
    " numbers = map(int, my_input.split())\n",
    "\n",
    " result=\"\"\n",
    " for i in numbers:\n",
    "    if len(format(i,'x'))==1:\n",
    "     result+=format(i,'0x')\n",
    "    else:\n",
    "     result+=format(i,'0x')\n",
    " return(result)   \n",
    "    \n",
    " "
   ]
  },
  {
   "cell_type": "code",
   "execution_count": 22,
   "metadata": {},
   "outputs": [
    {
     "data": {
      "text/plain": [
       "'f'"
      ]
     },
     "execution_count": 22,
     "metadata": {},
     "output_type": "execute_result"
    }
   ],
   "source": [
    "byte_2_hex(\"15\")"
   ]
  },
  {
   "cell_type": "code",
   "execution_count": 23,
   "metadata": {
    "collapsed": true
   },
   "outputs": [],
   "source": [
    "#hex to bytes ;  works only for 0 to f\n",
    "\n",
    "import re\n",
    "def hex_2_byte(my_input):\n",
    " hexs = re.findall('..',\"0\"+my_input)\n",
    " result = [int(i, 16) for i in hexs]   \n",
    " return((result[0]))\n",
    "\n",
    "\n",
    " "
   ]
  },
  {
   "cell_type": "code",
   "execution_count": 24,
   "metadata": {},
   "outputs": [
    {
     "data": {
      "text/plain": [
       "15"
      ]
     },
     "execution_count": 24,
     "metadata": {},
     "output_type": "execute_result"
    }
   ],
   "source": [
    "hex_2_byte(\"f\")"
   ]
  },
  {
   "cell_type": "code",
   "execution_count": 16,
   "metadata": {},
   "outputs": [
    {
     "data": {
      "text/plain": [
       "16045134108432175061528594169302478840L"
      ]
     },
     "execution_count": 16,
     "metadata": {},
     "output_type": "execute_result"
    }
   ],
   "source": [
    "0x0c122e3046546775839aa9bbcdd1eff8"
   ]
  },
  {
   "cell_type": "code",
   "execution_count": 30,
   "metadata": {},
   "outputs": [
    {
     "data": {
      "text/plain": [
       "10"
      ]
     },
     "execution_count": 30,
     "metadata": {},
     "output_type": "execute_result"
    }
   ],
   "source": [
    "int(\"0xa\",16)"
   ]
  },
  {
   "cell_type": "code",
   "execution_count": 31,
   "metadata": {},
   "outputs": [
    {
     "data": {
      "text/plain": [
       "'a'"
      ]
     },
     "execution_count": 31,
     "metadata": {},
     "output_type": "execute_result"
    }
   ],
   "source": []
  },
  {
   "cell_type": "code",
   "execution_count": null,
   "metadata": {
    "collapsed": true
   },
   "outputs": [],
   "source": []
  }
 ],
 "metadata": {
  "kernelspec": {
   "display_name": "Python 2",
   "language": "python",
   "name": "python2"
  },
  "language_info": {
   "codemirror_mode": {
    "name": "ipython",
    "version": 2
   },
   "file_extension": ".py",
   "mimetype": "text/x-python",
   "name": "python",
   "nbconvert_exporter": "python",
   "pygments_lexer": "ipython2",
   "version": "2.7.13"
  }
 },
 "nbformat": 4,
 "nbformat_minor": 2
}
