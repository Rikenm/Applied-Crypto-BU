{
 "cells": [
  {
   "cell_type": "code",
   "execution_count": 1,
   "metadata": {
    "collapsed": true
   },
   "outputs": [],
   "source": [
    "import re\n",
    "mostCommonWords = [\"the\",\"be\",\"to\",\"of\",\"and\",\"a\",\"in\",\"that\",\"have\",\"I\",\"it\",\"for\",\"not\",\"on\",\"with\",\"he\",\"as\",\"you\",\n",
    "\"do\",\"at\",\"this\",\"but\",\"his\",\"by\",\"from\",\"they\",\"we\",\"say\",\"her\",\"she\",\"or\",\"will\",\" an \",\"my\",\"one\",\"all\",\"would\",\n",
    "\"there\",\"their\",\"what\",\"so\",\"up\",\"out\",\"if\",\"about\",\"who\",\"get\",\"which\",\"go\",\"when\",\"me\",\"make\",\"can\",\"like\",\" time\",\"no\",\"just\",\n",
    "\"him\",\"know\",\"take\",\"person\",\"into\",\"year\",\"your\",\"good\",\"some\",\"could\",\"them\",\"see\",\"other\",\"than\",\"then\",\"now\",\"look\",\"only\",\n",
    "\"come\",\"its\",\"over\",\"think\",\"also\",\"back\",\"after\",\"use\",\"two\",\"how\",\"our\",\"homework \",\"first\",\"well\",\"way\",\"even\",\"new\",\"want\",\n",
    "\"becaus\",\"any\",\"these\",\"give\",\"day\",\"most\",\"us \"]"
   ]
  },
  {
   "cell_type": "code",
   "execution_count": 2,
   "metadata": {
    "collapsed": true
   },
   "outputs": [],
   "source": [
    "def string_2_hex(my_input):\n",
    "    numbers = [ord(a) for a in my_input]\n",
    "\n",
    "    result=\"\"\n",
    "    for i in numbers:\n",
    "        if len(format(i,'x'))==1:\n",
    "            result+=\"0\"+format(i,'0x')    #hex() does  the same thing \n",
    "        else:\n",
    "            result+=format(i,'0x')\n",
    "   \n",
    "    \n",
    "    return(result)"
   ]
  },
  {
   "cell_type": "code",
   "execution_count": 3,
   "metadata": {
    "collapsed": true
   },
   "outputs": [],
   "source": [
    "def hex_2_byte(my_input):\n",
    "   \n",
    "    hexs = re.findall('..',my_input)\n",
    "\n",
    "    result = [int(i, 16) for i in hexs]\n",
    "    \n",
    "    \n",
    "    print(result)  \n",
    "\n",
    "\n"
   ]
  },
  {
   "cell_type": "code",
   "execution_count": 4,
   "metadata": {
    "collapsed": true
   },
   "outputs": [],
   "source": [
    "def hex_2_int(result):\n",
    "    answer = int(result, 16) \n",
    "    return answer\n",
    "\n"
   ]
  },
  {
   "cell_type": "code",
   "execution_count": 5,
   "metadata": {
    "collapsed": true
   },
   "outputs": [],
   "source": [
    "def hex_2_string(my_input):\n",
    "\n",
    "    \n",
    "\n",
    "    hexs = re.findall('..',my_input)\n",
    "\n",
    "    byte = result = [int(i, 16) for i in hexs]\n",
    "\n",
    "\n",
    "    numbers = map(int, byte)\n",
    "\n",
    "    result=\"\"\n",
    "\n",
    "    for i in numbers:\n",
    "        result+= chr(i)\n",
    "    \n",
    "    return(result)  "
   ]
  },
  {
   "cell_type": "code",
   "execution_count": null,
   "metadata": {
    "collapsed": true
   },
   "outputs": [],
   "source": []
  },
  {
   "cell_type": "code",
   "execution_count": 6,
   "metadata": {},
   "outputs": [
    {
     "data": {
      "text/plain": [
       "'\\x06,25'"
      ]
     },
     "execution_count": 6,
     "metadata": {},
     "output_type": "execute_result"
    }
   ],
   "source": [
    "hex_2_string('062c3235')"
   ]
  },
  {
   "cell_type": "code",
   "execution_count": 7,
   "metadata": {},
   "outputs": [
    {
     "ename": "NameError",
     "evalue": "name 'c1XorCw' is not defined",
     "output_type": "error",
     "traceback": [
      "\u001b[0;31m---------------------------------------------------------------------------\u001b[0m",
      "\u001b[0;31mNameError\u001b[0m                                 Traceback (most recent call last)",
      "\u001b[0;32m<ipython-input-7-830f6adba064>\u001b[0m in \u001b[0;36m<module>\u001b[0;34m()\u001b[0m\n\u001b[1;32m      1\u001b[0m \u001b[0;31m#len(hex_i) = 6\u001b[0m\u001b[0;34m\u001b[0m\u001b[0;34m\u001b[0m\u001b[0m\n\u001b[0;32m----> 2\u001b[0;31m \u001b[0mc1XorCw\u001b[0m \u001b[0;34m=\u001b[0m \u001b[0mc1XorCw\u001b[0m\u001b[0;34m[\u001b[0m\u001b[0;34m:\u001b[0m\u001b[0;34m-\u001b[0m\u001b[0;36m1\u001b[0m\u001b[0;34m]\u001b[0m\u001b[0;34m\u001b[0m\u001b[0m\n\u001b[0m\u001b[1;32m      3\u001b[0m \u001b[0;32mprint\u001b[0m\u001b[0;34m(\u001b[0m\u001b[0mc1XorCw\u001b[0m\u001b[0;34m[\u001b[0m\u001b[0;36m22\u001b[0m\u001b[0;34m:\u001b[0m\u001b[0mlen\u001b[0m\u001b[0;34m(\u001b[0m\u001b[0mhex_i\u001b[0m\u001b[0;34m)\u001b[0m\u001b[0;34m+\u001b[0m\u001b[0;36m22\u001b[0m\u001b[0;34m]\u001b[0m\u001b[0;34m,\u001b[0m\u001b[0mc1XorCw\u001b[0m\u001b[0;34m)\u001b[0m\u001b[0;34m\u001b[0m\u001b[0m\n",
      "\u001b[0;31mNameError\u001b[0m: name 'c1XorCw' is not defined"
     ]
    }
   ],
   "source": [
    "#len(hex_i) = 6\n",
    "c1XorCw = c1XorCw[:-1]\n",
    "print(c1XorCw[22:len(hex_i)+22],c1XorCw)"
   ]
  },
  {
   "cell_type": "code",
   "execution_count": null,
   "metadata": {},
   "outputs": [],
   "source": [
    "hex_i=string_2_hex(\"I\")\n",
    "final = (hex_2_int(c1XorCw[22:len(hex_i)+22])^ hex_2_int(hex_i))\n",
    "print(hex(final))"
   ]
  },
  {
   "cell_type": "code",
   "execution_count": 8,
   "metadata": {},
   "outputs": [
    {
     "ename": "NameError",
     "evalue": "name 'hex_i' is not defined",
     "output_type": "error",
     "traceback": [
      "\u001b[0;31m---------------------------------------------------------------------------\u001b[0m",
      "\u001b[0;31mNameError\u001b[0m                                 Traceback (most recent call last)",
      "\u001b[0;32m<ipython-input-8-ee623d8285d5>\u001b[0m in \u001b[0;36m<module>\u001b[0;34m()\u001b[0m\n\u001b[0;32m----> 1\u001b[0;31m \u001b[0mhex_i\u001b[0m\u001b[0;34m\u001b[0m\u001b[0m\n\u001b[0m",
      "\u001b[0;31mNameError\u001b[0m: name 'hex_i' is not defined"
     ]
    }
   ],
   "source": [
    "hex_i"
   ]
  },
  {
   "cell_type": "code",
   "execution_count": 9,
   "metadata": {},
   "outputs": [
    {
     "ename": "SyntaxError",
     "evalue": "invalid syntax (<ipython-input-9-906375277a78>, line 15)",
     "output_type": "error",
     "traceback": [
      "\u001b[0;36m  File \u001b[0;32m\"<ipython-input-9-906375277a78>\"\u001b[0;36m, line \u001b[0;32m15\u001b[0m\n\u001b[0;31m    if answer[-1]=\"L\":\u001b[0m\n\u001b[0m                 ^\u001b[0m\n\u001b[0;31mSyntaxError\u001b[0m\u001b[0;31m:\u001b[0m invalid syntax\n"
     ]
    }
   ],
   "source": [
    "def run():\n",
    "    c1 = hex_2_int(\"57fbbaa76f6513d4b0685e651dc75dfed0a2dca24b9e42bf\")\n",
    "    c2 = hex_2_int(\"71b5edb269784099b77556201ec142f0d0a6c1ed5e9d55b9\")\n",
    "    c1XorCw = (hex(c1^c2)[2:])[:-1]\n",
    "    print(\"len:\",len(c1XorCw),c1XorCw,(c1XorCw)[46:])\n",
    "    word_list=[]\n",
    "    for i in mostCommonWords:\n",
    "        for j in range(0,len(c1XorCw),2): \n",
    "            hex_i=string_2_hex(i)\n",
    "            answer = (hex(hex_2_int(c1XorCw[j:len(hex_i)+j]) ^ hex_2_int(hex_i)))\n",
    "            \n",
    "            if len(answer[2:])< len((hex_i)) and len(c1XorCw[j:len(hex_i)+j]) == len(hex_i):\n",
    "                \n",
    "                answer = \"0\"*(len((hex_i))-len(answer[2:])) + answer[2:]\n",
    "                if answer[-1]=\"L\":\n",
    "                    answer = answer[:-1]\n",
    "                \n",
    "    \n",
    "               \n",
    "                answer = hex_2_string(answer)\n",
    "                print(answer,\"i:\",i,\"j:\",j)\n",
    "                print(\"-------\")\n",
    "                \n",
    "            elif len(answer[2:]) >= len((hex_i)) and len(c1XorCw[j:len(hex_i)+j]) == len(hex_i): \n",
    "                answer = answer\n",
    "                if answer[-1]=\"L\":\n",
    "                    answer = answer[:-1]\n",
    "                    \n",
    "                \n",
    "                answer = hex_2_string(answer[2:])\n",
    "                print(answer,\"i:\",i,\"j:\",j)\n",
    "                print(\"-------\")\n",
    "                \n",
    "            if answer.isalpha():\n",
    "                word_list.append(answer)\n",
    "                \n",
    "                \n",
    "    print(word_list)            \n",
    "                    \n",
    "                \n",
    "                \n",
    "            \n",
    "                \n",
    "                \n",
    "            \n",
    "            \n",
    "        \n",
    "            \n",
    "\n",
    "\n"
   ]
  },
  {
   "cell_type": "code",
   "execution_count": 10,
   "metadata": {},
   "outputs": [
    {
     "ename": "NameError",
     "evalue": "name 'run' is not defined",
     "output_type": "error",
     "traceback": [
      "\u001b[0;31m---------------------------------------------------------------------------\u001b[0m",
      "\u001b[0;31mNameError\u001b[0m                                 Traceback (most recent call last)",
      "\u001b[0;32m<ipython-input-10-f4bb35aa263b>\u001b[0m in \u001b[0;36m<module>\u001b[0;34m()\u001b[0m\n\u001b[0;32m----> 1\u001b[0;31m \u001b[0mrun\u001b[0m\u001b[0;34m(\u001b[0m\u001b[0;34m)\u001b[0m\u001b[0;34m\u001b[0m\u001b[0m\n\u001b[0m\u001b[1;32m      2\u001b[0m \u001b[0;34m\u001b[0m\u001b[0m\n",
      "\u001b[0;31mNameError\u001b[0m: name 'run' is not defined"
     ]
    }
   ],
   "source": [
    "run()\n",
    "\n"
   ]
  },
  {
   "cell_type": "code",
   "execution_count": 11,
   "metadata": {},
   "outputs": [
    {
     "data": {
      "text/plain": [
       "'Q\\xb1\\xea4\\x10'"
      ]
     },
     "execution_count": 11,
     "metadata": {},
     "output_type": "execute_result"
    }
   ],
   "source": [
    "hex_2_string('51b1ea3410')"
   ]
  },
  {
   "cell_type": "code",
   "execution_count": 12,
   "metadata": {},
   "outputs": [
    {
     "name": "stdout",
     "output_type": "stream",
     "text": [
      "746865\n"
     ]
    }
   ],
   "source": [
    "word = \"the\"\n",
    "word_hex = string_2_hex(word)\n",
    "print((word_hex))\n",
    "\n",
    "\n"
   ]
  },
  {
   "cell_type": "code",
   "execution_count": 13,
   "metadata": {
    "scrolled": true
   },
   "outputs": [
    {
     "ename": "NameError",
     "evalue": "name 'new_int' is not defined",
     "output_type": "error",
     "traceback": [
      "\u001b[0;31m---------------------------------------------------------------------------\u001b[0m",
      "\u001b[0;31mNameError\u001b[0m                                 Traceback (most recent call last)",
      "\u001b[0;32m<ipython-input-13-4d9434505321>\u001b[0m in \u001b[0;36m<module>\u001b[0;34m()\u001b[0m\n\u001b[1;32m      1\u001b[0m \u001b[0mhex_str\u001b[0m \u001b[0;34m=\u001b[0m \u001b[0;34m\"0xAD4\"\u001b[0m\u001b[0;34m\u001b[0m\u001b[0m\n\u001b[1;32m      2\u001b[0m \u001b[0;34m\u001b[0m\u001b[0m\n\u001b[0;32m----> 3\u001b[0;31m \u001b[0;32mprint\u001b[0m \u001b[0mhex\u001b[0m\u001b[0;34m(\u001b[0m\u001b[0mnew_int\u001b[0m\u001b[0;34m)\u001b[0m\u001b[0;34m\u001b[0m\u001b[0m\n\u001b[0m",
      "\u001b[0;31mNameError\u001b[0m: name 'new_int' is not defined"
     ]
    }
   ],
   "source": [
    "hex_str = \"0xAD4\"\n",
    "\n",
    "print hex(new_int)"
   ]
  },
  {
   "cell_type": "code",
   "execution_count": 14,
   "metadata": {},
   "outputs": [
    {
     "data": {
      "text/plain": [
       "291"
      ]
     },
     "execution_count": 14,
     "metadata": {},
     "output_type": "execute_result"
    }
   ],
   "source": [
    "0x123"
   ]
  },
  {
   "cell_type": "code",
   "execution_count": 15,
   "metadata": {},
   "outputs": [
    {
     "data": {
      "text/plain": [
       "123649868328037"
      ]
     },
     "execution_count": 15,
     "metadata": {},
     "output_type": "execute_result"
    }
   ],
   "source": [
    "0x70757a7a6c65"
   ]
  },
  {
   "cell_type": "code",
   "execution_count": 16,
   "metadata": {},
   "outputs": [
    {
     "data": {
      "text/plain": [
       "123649868328037"
      ]
     },
     "execution_count": 16,
     "metadata": {},
     "output_type": "execute_result"
    }
   ],
   "source": [
    "int(\"70757a7a6c65\", 16)"
   ]
  },
  {
   "cell_type": "code",
   "execution_count": 17,
   "metadata": {},
   "outputs": [
    {
     "data": {
      "text/plain": [
       "7628901"
      ]
     },
     "execution_count": 17,
     "metadata": {},
     "output_type": "execute_result"
    }
   ],
   "source": [
    "0x746865"
   ]
  },
  {
   "cell_type": "code",
   "execution_count": 18,
   "metadata": {},
   "outputs": [
    {
     "data": {
      "text/plain": [
       "'0x48656c'"
      ]
     },
     "execution_count": 18,
     "metadata": {},
     "output_type": "execute_result"
    }
   ],
   "source": [
    "hex(0x3c0d09 ^ 0x746865)"
   ]
  },
  {
   "cell_type": "code",
   "execution_count": 19,
   "metadata": {},
   "outputs": [
    {
     "data": {
      "text/plain": [
       "'0x77a8b5'"
      ]
     },
     "execution_count": 19,
     "metadata": {},
     "output_type": "execute_result"
    }
   ],
   "source": [
    "(hex(hex_2_int('3c0d094c1f523808000d09'[0:len(\"746865\")-1]) ^ hex_2_int('746865')))"
   ]
  },
  {
   "cell_type": "code",
   "execution_count": 20,
   "metadata": {},
   "outputs": [
    {
     "ename": "NameError",
     "evalue": "name 'j' is not defined",
     "output_type": "error",
     "traceback": [
      "\u001b[0;31m---------------------------------------------------------------------------\u001b[0m",
      "\u001b[0;31mNameError\u001b[0m                                 Traceback (most recent call last)",
      "\u001b[0;32m<ipython-input-20-5e83dbc8413a>\u001b[0m in \u001b[0;36m<module>\u001b[0;34m()\u001b[0m\n\u001b[0;32m----> 1\u001b[0;31m \u001b[0;34m'3c0d094c1f523808000d09'\u001b[0m\u001b[0;34m[\u001b[0m\u001b[0mj\u001b[0m\u001b[0;34m:\u001b[0m\u001b[0mlen\u001b[0m\u001b[0;34m(\u001b[0m\u001b[0;34m\"746865\"\u001b[0m\u001b[0;34m)\u001b[0m\u001b[0;34m]\u001b[0m\u001b[0;34m\u001b[0m\u001b[0m\n\u001b[0m",
      "\u001b[0;31mNameError\u001b[0m: name 'j' is not defined"
     ]
    }
   ],
   "source": [
    "'3c0d094c1f523808000d09'[j:len(\"746865\")]"
   ]
  },
  {
   "cell_type": "code",
   "execution_count": 21,
   "metadata": {
    "collapsed": true
   },
   "outputs": [],
   "source": [
    " c1 = hex_2_int(\"57fbbaa76f6513d4b0685e651dc75dfed0a2dca24b9e42bf\")\n",
    " c2 = hex_2_int(\"71b5edb269784099b77556201ec142f0d0a6c1ed5e9d55b9\")\n",
    " c1XorCw = hex(c1^c2)[2:]"
   ]
  },
  {
   "cell_type": "code",
   "execution_count": 22,
   "metadata": {},
   "outputs": [
    {
     "name": "stdout",
     "output_type": "stream",
     "text": [
      "264e5715061d534d071d084503061f0e00041d4f15031706L\n"
     ]
    }
   ],
   "source": [
    "print(c1XorCw)"
   ]
  },
  {
   "cell_type": "code",
   "execution_count": 23,
   "metadata": {},
   "outputs": [
    {
     "data": {
      "text/plain": [
       "'736f6d6574696d6520'"
      ]
     },
     "execution_count": 23,
     "metadata": {},
     "output_type": "execute_result"
    }
   ],
   "source": [
    "string_2_hex(\"sometime \")"
   ]
  },
  {
   "cell_type": "code",
   "execution_count": 24,
   "metadata": {},
   "outputs": [
    {
     "data": {
      "text/plain": [
       "'0x264e5715061d534d071d084503061f0e00041d4f15031706L'"
      ]
     },
     "execution_count": 24,
     "metadata": {},
     "output_type": "execute_result"
    }
   ],
   "source": [
    "hex(0x57fbbaa76f6513d4b0685e651dc75dfed0a2dca24b9e42bf ^ 0x71b5edb269784099b77556201ec142f0d0a6c1ed5e9d55b9) "
   ]
  },
  {
   "cell_type": "code",
   "execution_count": null,
   "metadata": {},
   "outputs": [],
   "source": []
  },
  {
   "cell_type": "code",
   "execution_count": null,
   "metadata": {},
   "outputs": [],
   "source": []
  },
  {
   "cell_type": "code",
   "execution_count": 25,
   "metadata": {},
   "outputs": [
    {
     "data": {
      "text/plain": [
       "''"
      ]
     },
     "execution_count": 25,
     "metadata": {},
     "output_type": "execute_result"
    }
   ],
   "source": [
    "hex_2_string(\"2\")"
   ]
  },
  {
   "cell_type": "code",
   "execution_count": 26,
   "metadata": {},
   "outputs": [
    {
     "data": {
      "text/plain": [
       "'071d084503061f0e00041d4f15031706'"
      ]
     },
     "execution_count": 26,
     "metadata": {},
     "output_type": "execute_result"
    }
   ],
   "source": [
    "(\"264e5715061d534d071d084503061f0e00041d4f15031706\")[16:]   #etime"
   ]
  },
  {
   "cell_type": "code",
   "execution_count": 27,
   "metadata": {},
   "outputs": [
    {
     "data": {
      "text/plain": [
       "'on this homework problem'"
      ]
     },
     "execution_count": 27,
     "metadata": {},
     "output_type": "execute_result"
    }
   ],
   "source": [
    "hex_2_string((hex(hex_2_int(string_2_hex(\"I want more time to work\")) ^ (hex_2_int(\"264e5715061d534d071d084503061f0e00041d4f15031706\")))[:-1])[2:])"
   ]
  },
  {
   "cell_type": "code",
   "execution_count": 28,
   "metadata": {},
   "outputs": [
    {
     "data": {
      "text/plain": [
       "'I want more time to work'"
      ]
     },
     "execution_count": 28,
     "metadata": {},
     "output_type": "execute_result"
    }
   ],
   "source": [
    "hex_2_string((hex(hex_2_int(string_2_hex(\"on this homework problem\")) ^ (hex_2_int(\"264e5715061d534d071d084503061f0e00041d4f15031706\")))[:-1])[2:])"
   ]
  },
  {
   "cell_type": "code",
   "execution_count": null,
   "metadata": {
    "collapsed": true
   },
   "outputs": [],
   "source": []
  }
 ],
 "metadata": {
  "kernelspec": {
   "display_name": "Python 2",
   "language": "python",
   "name": "python2"
  },
  "language_info": {
   "codemirror_mode": {
    "name": "ipython",
    "version": 2
   },
   "file_extension": ".py",
   "mimetype": "text/x-python",
   "name": "python",
   "nbconvert_exporter": "python",
   "pygments_lexer": "ipython2",
   "version": "2.7.13"
  }
 },
 "nbformat": 4,
 "nbformat_minor": 2
}
