{
 "cells": [
  {
   "cell_type": "code",
   "execution_count": 7,
   "metadata": {
    "collapsed": true
   },
   "outputs": [],
   "source": [
    "from Crypto.Cipher import AES\n",
    "from Crypto.Hash import SHA256\n",
    "from Crypto.Util.strxor import strxor\n",
    "from binascii import hexlify, unhexlify\n",
    "import string"
   ]
  },
  {
   "cell_type": "code",
   "execution_count": 8,
   "metadata": {
    "collapsed": true
   },
   "outputs": [],
   "source": [
    "def bytes_2_hex(my_input):\n",
    "    numbers = map(int, my_input.split())\n",
    "\n",
    "    result=\"\"\n",
    "    for i in numbers:\n",
    "        if len(format(i,'x'))==1:\n",
    "         result+=\"0\"+format(i,'0x')\n",
    "        else:\n",
    "         result+=format(i,'0x')\n",
    "    \n",
    "\n",
    "    return(result) "
   ]
  },
  {
   "cell_type": "code",
   "execution_count": 9,
   "metadata": {
    "collapsed": true
   },
   "outputs": [],
   "source": [
    "def Encipher(key, X):\n",
    "  assert(len(X) == 16)               # 1 block == 16 bytes\n",
    "  perm = AES.new(key, AES.MODE_ECB)  # ECB mode is a way to access the cipher directly\n",
    "  Y = perm.encrypt(X)                # Compute AES in forward direction\n",
    "  return Y                           # Return output as raw bytes"
   ]
  },
  {
   "cell_type": "code",
   "execution_count": 10,
   "metadata": {
    "collapsed": true
   },
   "outputs": [],
   "source": [
    "def cbcmac(K,M):\n",
    "    message_partition = []\n",
    "    \n",
    "    for i in range(0,len(M),16):\n",
    "        message_partition+= [M[i:i+16]]\n",
    "    #print(message_partition) \n",
    "    \n",
    "    for i in range(len(message_partition)):\n",
    "        if i ==0:  # first block is special\n",
    "            #print((M[i]))\n",
    "            tagi = Encipher(K,message_partition[i])  #where tagi is intermediate tags\n",
    "   \n",
    "        else:\n",
    "            tagi = Encipher(K,strxor(message_partition[i],tagi))    #where tagi is intermediate tags\n",
    "    final_tag = tagi\n",
    "\n",
    "    return (final_tag)\n",
    "                \n"
   ]
  },
  {
   "cell_type": "code",
   "execution_count": 11,
   "metadata": {
    "collapsed": true
   },
   "outputs": [],
   "source": [
    "key1 = b\"super secret key\"\n",
    "#key1 = b\"sixteen byte key\"\n",
    "message1= b\"print(\\\"CBC-MAC is a very strong hash function!\\\")\""
   ]
  },
  {
   "cell_type": "code",
   "execution_count": null,
   "metadata": {
    "collapsed": true
   },
   "outputs": [],
   "source": [
    "\n",
    "\n",
    "\n",
    "\n",
    "\n"
   ]
  },
  {
   "cell_type": "code",
   "execution_count": null,
   "metadata": {
    "collapsed": true
   },
   "outputs": [],
   "source": []
  },
  {
   "cell_type": "code",
   "execution_count": 12,
   "metadata": {},
   "outputs": [
    {
     "name": "stdout",
     "output_type": "stream",
     "text": [
      "b'2508d4f10d74162f44368d8e7c07dcbe'\n"
     ]
    }
   ],
   "source": [
    "h = SHA256.new()\n",
    "answer = cbcmac(key1,message1)\n",
    "print(hexlify(answer))\n",
    "\n"
   ]
  },
  {
   "cell_type": "code",
   "execution_count": 15,
   "metadata": {
    "collapsed": true
   },
   "outputs": [],
   "source": []
  },
  {
   "cell_type": "code",
   "execution_count": 11,
   "metadata": {
    "collapsed": true
   },
   "outputs": [],
   "source": []
  },
  {
   "cell_type": "code",
   "execution_count": null,
   "metadata": {
    "collapsed": true
   },
   "outputs": [],
   "source": [
    "\n",
    "\n"
   ]
  },
  {
   "cell_type": "code",
   "execution_count": null,
   "metadata": {
    "collapsed": true
   },
   "outputs": [],
   "source": []
  },
  {
   "cell_type": "code",
   "execution_count": null,
   "metadata": {
    "collapsed": true
   },
   "outputs": [],
   "source": []
  },
  {
   "cell_type": "code",
   "execution_count": null,
   "metadata": {
    "collapsed": true
   },
   "outputs": [],
   "source": []
  },
  {
   "cell_type": "code",
   "execution_count": null,
   "metadata": {
    "collapsed": true
   },
   "outputs": [],
   "source": []
  },
  {
   "cell_type": "code",
   "execution_count": null,
   "metadata": {
    "collapsed": true
   },
   "outputs": [],
   "source": []
  },
  {
   "cell_type": "code",
   "execution_count": null,
   "metadata": {
    "collapsed": true
   },
   "outputs": [],
   "source": []
  },
  {
   "cell_type": "code",
   "execution_count": null,
   "metadata": {
    "collapsed": true
   },
   "outputs": [],
   "source": []
  },
  {
   "cell_type": "code",
   "execution_count": null,
   "metadata": {
    "collapsed": true
   },
   "outputs": [],
   "source": []
  }
 ],
 "metadata": {
  "kernelspec": {
   "display_name": "Python 3",
   "language": "python",
   "name": "python3"
  },
  "language_info": {
   "codemirror_mode": {
    "name": "ipython",
    "version": 3
   },
   "file_extension": ".py",
   "mimetype": "text/x-python",
   "name": "python",
   "nbconvert_exporter": "python",
   "pygments_lexer": "ipython3",
   "version": "3.5.1"
  }
 },
 "nbformat": 4,
 "nbformat_minor": 2
}
