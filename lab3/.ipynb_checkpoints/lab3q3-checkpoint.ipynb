{
 "cells": [
  {
   "cell_type": "code",
   "execution_count": 1,
   "metadata": {},
   "outputs": [],
   "source": [
    "from lab3q2python import cbcmac, Encipher\n",
    "from Crypto.Cipher import AES\n",
    "from Crypto.Util.strxor import strxor\n",
    "from binascii import hexlify, unhexlify\n",
    "import string\n",
    "import re"
   ]
  },
  {
   "cell_type": "code",
   "execution_count": 2,
   "metadata": {
    "collapsed": true
   },
   "outputs": [],
   "source": [
    "K = b\"sixteen byte key\"\n",
    "tag = b\"2508d4f10d74162f44368d8e7c07dcbe\""
   ]
  },
  {
   "cell_type": "code",
   "execution_count": 3,
   "metadata": {
    "collapsed": true
   },
   "outputs": [],
   "source": [
    "def byte_2_hex(my_input):\n",
    "\n",
    " numbers = map(int, my_input.split())\n",
    "\n",
    " result=\"\"\n",
    " print(numbers)   \n",
    " for i in numbers:\n",
    "    if len(format(i,'x'))==1:\n",
    "     result+=format(i,'0x')\n",
    "    else:\n",
    "     result+=format(i,'0x')\n",
    " return(result)   \n",
    "    "
   ]
  },
  {
   "cell_type": "code",
   "execution_count": 4,
   "metadata": {
    "collapsed": true
   },
   "outputs": [],
   "source": [
    "def hex_2_string(my_input):\n",
    "\n",
    "    \n",
    "\n",
    "    hexs = re.findall('..',my_input)\n",
    "\n",
    "    byte = result = [int(i, 16) for i in hexs]\n",
    "\n",
    "\n",
    "    numbers = map(int, byte)\n",
    "\n",
    "    result=\"\"\n",
    "\n",
    "    for i in numbers:\n",
    "        result+= chr(i)\n",
    "    \n",
    "    return(result)\n"
   ]
  },
  {
   "cell_type": "code",
   "execution_count": 5,
   "metadata": {
    "collapsed": true
   },
   "outputs": [],
   "source": [
    "def string_2_hex(my_input):\n",
    "    numbers = [ord(a) for a in my_input]\n",
    "\n",
    "    result=\"\"\n",
    "    for i in numbers:\n",
    "        if len(format(i,'x'))==1:\n",
    "            result+=\"0\"+format(i,'0x')    #hex() does  the same thing \n",
    "        else:\n",
    "            result+=format(i,'0x')\n",
    "   \n",
    "    \n",
    "    return(result)"
   ]
  },
  {
   "cell_type": "code",
   "execution_count": 6,
   "metadata": {
    "collapsed": true
   },
   "outputs": [],
   "source": [
    "def byte_2_string(my_input):\n",
    "    numbers = map(int, my_input.split())\n",
    "\n",
    "    result=\"\"\n",
    "\n",
    "    for i in numbers:\n",
    "        result+= chr(i)\n",
    "    \n",
    "    return(result)    "
   ]
  },
  {
   "cell_type": "code",
   "execution_count": 7,
   "metadata": {
    "collapsed": true
   },
   "outputs": [],
   "source": [
    "def hash_from_cbcmac(M):\n",
    "    return cbcmac(K,M)"
   ]
  },
  {
   "cell_type": "code",
   "execution_count": 8,
   "metadata": {
    "collapsed": true
   },
   "outputs": [],
   "source": [
    "def cbcmac_32(K,M):   \n",
    "    message_partition = []\n",
    "    for i in range(0,len(M),32):\n",
    "        message_partition+= [M[i:i+32]]\n",
    "    #\n",
    "    \n",
    "    for i in range(len(message_partition)):\n",
    "        if i ==0:  # first block is special\n",
    "            \n",
    "            tagi = Encipher(K,message_partition[i])  #where tagi is intermediate tags\n",
    "   \n",
    "        else:\n",
    "            tagi = Encipher(K,strxor(message_partition[i],tagi))    #where tagi is intermediate tags\n",
    "            print((tagi))\n",
    "    final_tag = tagi\n",
    "\n",
    "    return (final_tag)\n",
    "    "
   ]
  },
  {
   "cell_type": "code",
   "execution_count": 9,
   "metadata": {
    "collapsed": true
   },
   "outputs": [],
   "source": [
    "def decipher(C,key=K):\n",
    "  \n",
    "    \n",
    "    cipher = AES.new(key,AES.MODE_ECB)\n",
    "    plaintext = cipher.decrypt(C)\n",
    "    \n",
    "    return((plaintext))\n",
    "    \n",
    "    "
   ]
  },
  {
   "cell_type": "code",
   "execution_count": 10,
   "metadata": {},
   "outputs": [
    {
     "name": "stdout",
     "output_type": "stream",
     "text": [
      "b'2508d4f10d74162f44368d8e7c07dcbe'\n"
     ]
    }
   ],
   "source": [
    "final_tag = hash_from_cbcmac(b\"print(\\\"CBC-MAC is a very strong hash function!\\\")\")\n",
    "print(final_tag)    "
   ]
  },
  {
   "cell_type": "code",
   "execution_count": 11,
   "metadata": {
    "collapsed": true
   },
   "outputs": [],
   "source": [
    "def hash_breaker(final_tag):\n",
    "    message = []\n",
    "    T = decipher(final_tag)\n",
    "    return(T)\n",
    "    \n",
    "  "
   ]
  },
  {
   "cell_type": "code",
   "execution_count": 12,
   "metadata": {},
   "outputs": [
    {
     "name": "stdout",
     "output_type": "stream",
     "text": [
      "b'`S|l\\xc2\\xe5\\xeb)\\x882\\x0f\\x04qs\\x0e\\x89\\x96\\x11\\x87\\x00\\x99Sp\\x86\\xa3\\xfa\\xd0\\xa9\\xab@X\\xba'\n"
     ]
    }
   ],
   "source": [
    "intermediate3 = (hash_breaker((final_tag)))\n",
    "print((intermediate3))"
   ]
  },
  {
   "cell_type": "code",
   "execution_count": 13,
   "metadata": {},
   "outputs": [
    {
     "name": "stdout",
     "output_type": "stream",
     "text": [
      "b'49206e656564206d6f72652074696d65'\n"
     ]
    }
   ],
   "source": [
    "msg3 = string_2_hex(\"I need more time\")\n",
    "msg3 = (msg3.encode('utf-8'))\n",
    "print(msg3)"
   ]
  },
  {
   "cell_type": "code",
   "execution_count": 14,
   "metadata": {},
   "outputs": [
    {
     "name": "stdout",
     "output_type": "stream",
     "text": [
      "b'TjN\\\\\\xf4\\x80\\xdd\\x1c\\xbe\\x0790CC8\\xed\\xa0w\\xb02\\xaffB\\xb6\\x94\\xce\\xe6\\x90\\x9d$n\\x8f'\n"
     ]
    }
   ],
   "source": [
    "my_byte2=(strxor(intermediate3,msg3))\n",
    "print(my_byte2)"
   ]
  },
  {
   "cell_type": "code",
   "execution_count": 15,
   "metadata": {},
   "outputs": [
    {
     "name": "stdout",
     "output_type": "stream",
     "text": [
      "b'\\xe4\\xff!t:\\x154@y\\x1b\\xea#\\x02m\\x8a\\x88DG\\xc7\\xa1\\x93\\x8f\\t\\xd1\\xb9\\xb2\\x7f\\ni\\xb8K\\xe0'\n"
     ]
    }
   ],
   "source": [
    "intermediate2 = (hash_breaker((my_byte2)))\n",
    "print((intermediate2))"
   ]
  },
  {
   "cell_type": "code",
   "execution_count": 16,
   "metadata": {},
   "outputs": [
    {
     "name": "stdout",
     "output_type": "stream",
     "text": [
      "b'49206e656564206d6f72652074696d65'\n"
     ]
    }
   ],
   "source": [
    "msg2 = string_2_hex(\"I need more time\")\n",
    "msg2 = (msg2.encode('utf-8'))\n",
    "print(msg2)"
   ]
  },
  {
   "cell_type": "code",
   "execution_count": 17,
   "metadata": {},
   "outputs": [
    {
     "name": "stdout",
     "output_type": "stream",
     "text": [
      "b'\\xd0\\xc6\\x13D\\x0cp\\x02uO.\\xdc\\x170]\\xbc\\xecr!\\xf0\\x93\\xa5\\xba;\\xe1\\x8e\\x86I3_\\xdc}\\xd5'\n"
     ]
    }
   ],
   "source": [
    "my_byte2=(strxor(intermediate2,msg2))\n",
    "print((my_byte2))"
   ]
  },
  {
   "cell_type": "code",
   "execution_count": 18,
   "metadata": {},
   "outputs": [
    {
     "name": "stdout",
     "output_type": "stream",
     "text": [
      "b'\\xcf\\xed\\x00\\x97eUI\\xc2\\xde\\xbe9;k\\x98\\x93C\\x0f\\rq\\x8aI\\xf1\\x11\\xee\\xcb\\x8aB\\x8d\\x9a\\x9f\\xd3L'\n"
     ]
    }
   ],
   "source": [
    "msg1 = (hash_breaker((my_byte2)))\n",
    "msg1= (msg1)\n",
    "print(msg1)\n"
   ]
  },
  {
   "cell_type": "code",
   "execution_count": null,
   "metadata": {
    "collapsed": true
   },
   "outputs": [],
   "source": []
  },
  {
   "cell_type": "code",
   "execution_count": 19,
   "metadata": {},
   "outputs": [
    {
     "name": "stdout",
     "output_type": "stream",
     "text": [
      "cfed097655549c2debe393b6b989343fd718a49f111eecb8a428d9a9fd34c\n"
     ]
    }
   ],
   "source": [
    "result=\"\"\n",
    "for i in msg1:\n",
    "    if len(format(i,'x'))==1:\n",
    "     result+=format(i,'0x')\n",
    "    else:\n",
    "     result+=format(i,'0x')\n",
    "print(result)"
   ]
  },
  {
   "cell_type": "code",
   "execution_count": null,
   "metadata": {},
   "outputs": [],
   "source": []
  },
  {
   "cell_type": "code",
   "execution_count": 20,
   "metadata": {},
   "outputs": [
    {
     "name": "stdout",
     "output_type": "stream",
     "text": [
      "0123456789abcdefghijklmnopqrstuvwxyzABCDEFGHIJKLMNOPQRSTUVWXYZ!\"#$%&'()*+,-./:;<=>?@[\\]^_`{|}~ \t\n",
      "\r",
      "\u000b",
      "\f",
      "\n"
     ]
    }
   ],
   "source": [
    "print((string.printable))\n",
    "#---------------------------------------#"
   ]
  },
  {
   "cell_type": "code",
   "execution_count": 21,
   "metadata": {},
   "outputs": [
    {
     "name": "stdout",
     "output_type": "stream",
     "text": [
      "b'`S|l\\xc2\\xe5\\xeb)\\x882\\x0f\\x04qs\\x0e\\x89\\x96\\x11\\x87\\x00\\x99Sp\\x86\\xa3\\xfa\\xd0\\xa9\\xab@X\\xba'\n"
     ]
    }
   ],
   "source": [
    "intermediate = (hash_breaker((final_tag)))\n",
    "print(intermediate)"
   ]
  },
  {
   "cell_type": "code",
   "execution_count": 22,
   "metadata": {},
   "outputs": [
    {
     "data": {
      "text/plain": [
       "16"
      ]
     },
     "execution_count": 22,
     "metadata": {},
     "output_type": "execute_result"
    }
   ],
   "source": [
    "len (\"hash function!\\\")\")"
   ]
  },
  {
   "cell_type": "code",
   "execution_count": 23,
   "metadata": {},
   "outputs": [
    {
     "name": "stdout",
     "output_type": "stream",
     "text": [
      "b'`S|l\\xc2\\xe5\\xeb)\\x882\\x0f\\x04qs\\x0e\\x89\\x96\\x11\\x87\\x00\\x99Sp\\x86\\xa3\\xfa\\xd0\\xa9\\xab@X\\xba'\n"
     ]
    }
   ],
   "source": [
    "print((intermediate))"
   ]
  },
  {
   "cell_type": "code",
   "execution_count": 24,
   "metadata": {},
   "outputs": [
    {
     "name": "stdout",
     "output_type": "stream",
     "text": [
      "b'686173682066756e6374696f6e212229'\n"
     ]
    }
   ],
   "source": [
    "print(hexlify(b\"hash function!\\\")\"))"
   ]
  },
  {
   "cell_type": "code",
   "execution_count": 25,
   "metadata": {},
   "outputs": [
    {
     "name": "stdout",
     "output_type": "stream",
     "text": [
      "b'686173682066756e6374696f6e212229'\n"
     ]
    }
   ],
   "source": [
    "print((string_2_hex(\"hash function!\\\")\").encode('utf-8')))"
   ]
  },
  {
   "cell_type": "code",
   "execution_count": 26,
   "metadata": {},
   "outputs": [],
   "source": [
    "w2=strxor((string_2_hex(\"hash function!\\\")\").encode('utf-8')),intermediate)"
   ]
  },
  {
   "cell_type": "code",
   "execution_count": 27,
   "metadata": {},
   "outputs": [
    {
     "name": "stdout",
     "output_type": "stream",
     "text": [
      "b'VkJ]\\xf5\\xd6\\xdd\\x11\\xba\\x0292FF8\\xec\\xa0\"\\xb04\\xafjF\\xe0\\x95\\x9f\\xe2\\x98\\x99rj\\x83'\n"
     ]
    }
   ],
   "source": [
    "print(w2)"
   ]
  },
  {
   "cell_type": "code",
   "execution_count": 28,
   "metadata": {},
   "outputs": [
    {
     "name": "stdout",
     "output_type": "stream",
     "text": [
      "b'686173682066756e6374696f6e212229'\n"
     ]
    }
   ],
   "source": [
    "message = strxor(w2,intermediate)\n",
    "print((message))"
   ]
  },
  {
   "cell_type": "code",
   "execution_count": 29,
   "metadata": {},
   "outputs": [
    {
     "data": {
      "text/plain": [
       "'hash function!\")'"
      ]
     },
     "execution_count": 29,
     "metadata": {},
     "output_type": "execute_result"
    }
   ],
   "source": [
    "hex_2_string((message.decode()))"
   ]
  },
  {
   "cell_type": "code",
   "execution_count": 30,
   "metadata": {},
   "outputs": [
    {
     "data": {
      "text/plain": [
       "16"
      ]
     },
     "execution_count": 30,
     "metadata": {},
     "output_type": "execute_result"
    }
   ],
   "source": [
    "len(b\"hash function!\\\")\")"
   ]
  },
  {
   "cell_type": "code",
   "execution_count": 31,
   "metadata": {},
   "outputs": [
    {
     "data": {
      "text/plain": [
       "'686173682066756e6374696f6e212229'"
      ]
     },
     "execution_count": 31,
     "metadata": {},
     "output_type": "execute_result"
    }
   ],
   "source": [
    "string_2_hex(\"hash function!\\\")\")\n"
   ]
  },
  {
   "cell_type": "code",
   "execution_count": 32,
   "metadata": {},
   "outputs": [
    {
     "data": {
      "text/plain": [
       "'0123456789abcdefghijklmnopqrstuvwxyzABCDEFGHIJKLMNOPQRSTUVWXYZ!\"#$%&\\'()*+,-./:;<=>?@[\\\\]^_`{|}~ \\t\\n\\r\\x0b\\x0c'"
      ]
     },
     "execution_count": 32,
     "metadata": {},
     "output_type": "execute_result"
    }
   ],
   "source": [
    "string.printable"
   ]
  },
  {
   "cell_type": "code",
   "execution_count": 33,
   "metadata": {},
   "outputs": [
    {
     "name": "stdout",
     "output_type": "stream",
     "text": [
      "b'\\xeay)\\x08$*\\xc5\\xb4\\xb6i,/S\\xdbN6'\n",
      "b\"Mi\\xa7\\x99-\\x12cA'B\\xe4\\xe1\\x12&\\xfe\\x97\"\n"
     ]
    }
   ],
   "source": [
    "message = b\"print(\\\"CBC-MAC n\" \n",
    "w1 = b'\\xeay)\\x08$*\\xc5\\xb4\\xb6i,/S\\xdbN6'\n",
    "print(w1)  #len 16\n",
    "intermediate = b\"Mi\\xa7\\x99-\\x12cA'B\\xe4\\xe1\\x12&\\xfe\\x97\"\n",
    "print(intermediate) #32"
   ]
  },
  {
   "cell_type": "code",
   "execution_count": 35,
   "metadata": {
    "scrolled": false
   },
   "outputs": [],
   "source": [
    "intermediate = b\"Mi\\xa7\\x99-\\x12cA'B\\xe4\\xe1\\x12&\\xfe\\x97\"\n",
    "check = \"abcdefghijklmnopqrstuvw \"\n",
    "for i in check:\n",
    "    for j in check:\n",
    "        for k in check:\n",
    "            for l in check:\n",
    "                for m in check:\n",
    "                    flag=False\n",
    "                    message_2 = \"ot a hash\\\",\"+i+j+k+l+m\n",
    "                    message_2 = message_2.encode()\n",
    "                    \n",
    "                    if len(w1)==16 and len(message_2)==16:\n",
    "                         w2 = (Encipher(K,strxor(message_2,w1)))\n",
    "                    \n",
    "                    \n",
    "                    \n",
    "                         if len(w2)==16:\n",
    "                             message_3 = strxor(w2,intermediate)\n",
    "                        \n",
    "                    \n",
    "                             message_3 = ((hexlify(message_3)).decode())\n",
    "                    \n",
    "                             message_3_string = hex_2_string(message_3)\n",
    "                    \n",
    "                     \n",
    "                   \n",
    "                    for i in message_3_string:\n",
    "                         if i not in string.printable:\n",
    "                            flag=False\n",
    "                    \n",
    "                    if (flag==True):\n",
    "                            print(message_2)\n",
    "                            print(message_3_string)\n",
    "                            print((intermediate))\n",
    "                            print(\"---\")\n",
    "                            flag=False\n",
    "                            \n",
    "                    \n",
    "\n",
    "\n",
    "\n"
   ]
  },
  {
   "cell_type": "code",
   "execution_count": null,
   "metadata": {},
   "outputs": [],
   "source": []
  },
  {
   "cell_type": "code",
   "execution_count": null,
   "metadata": {
    "collapsed": true
   },
   "outputs": [],
   "source": []
  },
  {
   "cell_type": "code",
   "execution_count": null,
   "metadata": {},
   "outputs": [],
   "source": [
    "if 'seek' in 'those who seek shall find':\n",
    "    print('Success!')"
   ]
  },
  {
   "cell_type": "code",
   "execution_count": null,
   "metadata": {
    "collapsed": true
   },
   "outputs": [],
   "source": [
    "for i in "
   ]
  },
  {
   "cell_type": "code",
   "execution_count": null,
   "metadata": {
    "collapsed": true
   },
   "outputs": [],
   "source": []
  },
  {
   "cell_type": "code",
   "execution_count": null,
   "metadata": {
    "collapsed": true
   },
   "outputs": [],
   "source": []
  },
  {
   "cell_type": "code",
   "execution_count": null,
   "metadata": {
    "collapsed": true
   },
   "outputs": [],
   "source": []
  },
  {
   "cell_type": "code",
   "execution_count": null,
   "metadata": {
    "collapsed": true
   },
   "outputs": [],
   "source": []
  }
 ],
 "metadata": {
  "kernelspec": {
   "display_name": "Python 3",
   "language": "python",
   "name": "python3"
  },
  "language_info": {
   "codemirror_mode": {
    "name": "ipython",
    "version": 3
   },
   "file_extension": ".py",
   "mimetype": "text/x-python",
   "name": "python",
   "nbconvert_exporter": "python",
   "pygments_lexer": "ipython3",
   "version": "3.5.1"
  }
 },
 "nbformat": 4,
 "nbformat_minor": 2
}
