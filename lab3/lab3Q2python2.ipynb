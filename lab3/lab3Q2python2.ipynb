{
 "cells": [
  {
   "cell_type": "code",
   "execution_count": 1,
   "metadata": {
    "collapsed": true
   },
   "outputs": [],
   "source": [
    "from Crypto.Cipher import AES\n",
    "from Crypto.Hash import SHA256\n",
    "from Crypto.Util.strxor import strxor"
   ]
  },
  {
   "cell_type": "code",
   "execution_count": 2,
   "metadata": {
    "collapsed": true
   },
   "outputs": [],
   "source": [
    "def Encipher(key, X):\n",
    "  assert(len(X) == 16)               # 1 block == 16 bytes\n",
    "  perm = AES.new(key, AES.MODE_ECB)  # ECB mode is a way to access the cipher directly\n",
    "  Y = perm.encrypt(X)                # Compute AES in forward direction\n",
    "  return Y         "
   ]
  },
  {
   "cell_type": "code",
   "execution_count": 3,
   "metadata": {
    "collapsed": true
   },
   "outputs": [],
   "source": [
    "def cbcmac(K,M):\n",
    "    message_partition = []\n",
    "    \n",
    "    for i in range(0,len(M),16):\n",
    "        message_partition+= [M[i:i+16]]\n",
    "    print(message_partition) \n",
    "    \n",
    "    for i in range(len(message_partition)):\n",
    "        if i ==0:  # first block is special\n",
    "            print((M[i]))\n",
    "            tagi = Encipher(K,message_partition[i])  #where tagi is intermediate tags\n",
    "            print(tagi)\n",
    "            \n",
    "        else:\n",
    "            \n",
    "            tagi = Encipher(K,strxor(message_partition[i],tagi))    #where tagi is intermediate tags\n",
    "    final_tag = tagi\n",
    "    \n",
    "    \n",
    "    \n",
    "    return (final_tag)"
   ]
  },
  {
   "cell_type": "code",
   "execution_count": 4,
   "metadata": {
    "collapsed": true
   },
   "outputs": [],
   "source": [
    "key1 = b\"super secret key\"\n",
    "message1= b\"print(\\\"CBC-MAC is a very strong hash function!\\\")\""
   ]
  },
  {
   "cell_type": "code",
   "execution_count": 5,
   "metadata": {},
   "outputs": [
    {
     "name": "stdout",
     "output_type": "stream",
     "text": [
      "['print(\"CBC-MAC i', 's a very strong ', 'hash function!\")']\n",
      "p\n",
      "\u0007�|kn|k\u0007�\\���l��\n",
      "('before hash', 'ZvMD\\xcf\\xad\\x89\\x97D,\\x01%\\xc8o\\xcb\\xc8')\n"
     ]
    }
   ],
   "source": [
    "h = SHA256.new()\n",
    "answer = cbcmac(key1,message1)\n",
    "print(\"before hash\", answer)"
   ]
  },
  {
   "cell_type": "code",
   "execution_count": null,
   "metadata": {
    "collapsed": true
   },
   "outputs": [],
   "source": []
  }
 ],
 "metadata": {
  "kernelspec": {
   "display_name": "Python 2",
   "language": "python",
   "name": "python2"
  },
  "language_info": {
   "codemirror_mode": {
    "name": "ipython",
    "version": 2
   },
   "file_extension": ".py",
   "mimetype": "text/x-python",
   "name": "python",
   "nbconvert_exporter": "python",
   "pygments_lexer": "ipython2",
   "version": "2.7.13"
  }
 },
 "nbformat": 4,
 "nbformat_minor": 2
}
