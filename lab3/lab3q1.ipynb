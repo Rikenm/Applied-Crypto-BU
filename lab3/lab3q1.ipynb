{
 "cells": [
  {
   "cell_type": "code",
   "execution_count": 46,
   "metadata": {
    "collapsed": true
   },
   "outputs": [],
   "source": [
    "from Crypto.Hash import HMAC,SHA256,SHA1,MD5"
   ]
  },
  {
   "cell_type": "code",
   "execution_count": 47,
   "metadata": {
    "collapsed": true
   },
   "outputs": [],
   "source": [
    "msg =\"Password1!\""
   ]
  },
  {
   "cell_type": "code",
   "execution_count": 48,
   "metadata": {},
   "outputs": [],
   "source": [
    "h = MD5.new()\n",
    "h.update(b'Password1!')\n",
    "md5_hash = h.digest()"
   ]
  },
  {
   "cell_type": "code",
   "execution_count": null,
   "metadata": {
    "collapsed": true
   },
   "outputs": [],
   "source": []
  },
  {
   "cell_type": "code",
   "execution_count": 49,
   "metadata": {
    "collapsed": true
   },
   "outputs": [],
   "source": [
    "HMAC_SHA1_Salt = b\"salt1\"\n",
    "HMAC_SHA256_Salt = b\"salt2\"\n"
   ]
  },
  {
   "cell_type": "code",
   "execution_count": 50,
   "metadata": {
    "collapsed": true
   },
   "outputs": [],
   "source": [
    "h = HMAC.new(HMAC_SHA1_Salt, digestmod=SHA1)\n"
   ]
  },
  {
   "cell_type": "code",
   "execution_count": 51,
   "metadata": {},
   "outputs": [],
   "source": [
    "h.update(md5_hash)"
   ]
  },
  {
   "cell_type": "code",
   "execution_count": 52,
   "metadata": {},
   "outputs": [
    {
     "name": "stdout",
     "output_type": "stream",
     "text": [
      "b'\\xbb\\x05\\x9fv\\xbar\\xff>m\\x15\\x9b\\xf8\\x82OF \\x1f\\x94w\\xda'\n"
     ]
    }
   ],
   "source": [
    "SHA1_HMAC = h.digest()\n",
    "print(SHA1_HMAC)"
   ]
  },
  {
   "cell_type": "code",
   "execution_count": 53,
   "metadata": {
    "collapsed": true
   },
   "outputs": [],
   "source": [
    "h = HMAC.new(HMAC_SHA256_Salt, digestmod=SHA256)"
   ]
  },
  {
   "cell_type": "code",
   "execution_count": 54,
   "metadata": {
    "collapsed": true
   },
   "outputs": [],
   "source": [
    "h.update(SHA1_HMAC)"
   ]
  },
  {
   "cell_type": "code",
   "execution_count": 55,
   "metadata": {},
   "outputs": [
    {
     "name": "stdout",
     "output_type": "stream",
     "text": [
      "06912315b30054d76340a880dbb7b65d366df1f8dee1c348aa1bc4354f42cc38\n"
     ]
    }
   ],
   "source": [
    "SHA256_HMAC = h.hexdigest()\n",
    "print(h.hexdigest())"
   ]
  },
  {
   "cell_type": "code",
   "execution_count": 56,
   "metadata": {},
   "outputs": [
    {
     "name": "stdout",
     "output_type": "stream",
     "text": [
      "06912315b30054d76340a880dbb7b65d366df1f8dee1c348aa1bc4354f42cc38\n"
     ]
    }
   ],
   "source": [
    "print(SHA256_HMAC)"
   ]
  },
  {
   "cell_type": "code",
   "execution_count": 57,
   "metadata": {},
   "outputs": [
    {
     "data": {
      "text/plain": [
       "'06912315b30054d76340a880dbb7b65d366df1f8dee1c348aa1bc4354f42cc38'"
      ]
     },
     "execution_count": 57,
     "metadata": {},
     "output_type": "execute_result"
    }
   ],
   "source": [
    "SHA256_HMAC\n"
   ]
  },
  {
   "cell_type": "code",
   "execution_count": 61,
   "metadata": {},
   "outputs": [
    {
     "name": "stdout",
     "output_type": "stream",
     "text": [
      "a6306cba589c5b660b057ca018c11abc706a38d4c6b66aa5b185d4753fd1ab0d\n"
     ]
    }
   ],
   "source": [
    "h = SHA256.new()\n",
    "h.update(SHA256_HMAC.encode('utf-8'))\n",
    "print (h.hexdigest())"
   ]
  },
  {
   "cell_type": "code",
   "execution_count": null,
   "metadata": {
    "collapsed": true
   },
   "outputs": [],
   "source": []
  },
  {
   "cell_type": "code",
   "execution_count": null,
   "metadata": {
    "collapsed": true
   },
   "outputs": [],
   "source": []
  }
 ],
 "metadata": {
  "kernelspec": {
   "display_name": "Python 3",
   "language": "python",
   "name": "python3"
  },
  "language_info": {
   "codemirror_mode": {
    "name": "ipython",
    "version": 3
   },
   "file_extension": ".py",
   "mimetype": "text/x-python",
   "name": "python",
   "nbconvert_exporter": "python",
   "pygments_lexer": "ipython3",
   "version": "3.5.1"
  }
 },
 "nbformat": 4,
 "nbformat_minor": 2
}
