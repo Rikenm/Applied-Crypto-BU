{
 "cells": [
  {
   "cell_type": "code",
   "execution_count": 1,
   "metadata": {},
   "outputs": [
    {
     "name": "stdout",
     "output_type": "stream",
     "text": [
      "a6306cba589c5b660b057ca018c11abc706a38d4c6b66aa5b185d4753fd1ab0d\n"
     ]
    }
   ],
   "source": [
    "from Crypto.Hash import HMAC,SHA256,SHA1,MD5\n",
    "msg =\"Password1!\"\n",
    "h = MD5.new()\n",
    "h.update(b'Password1!')\n",
    "md5_hash = h.digest()\n",
    "HMAC_SHA1_Salt = b\"salt1\"\n",
    "HMAC_SHA256_Salt = b\"salt2\"\n",
    "\n",
    "h = HMAC.new(HMAC_SHA1_Salt, digestmod=SHA1)\n",
    "h.update(md5_hash)\n",
    "SHA1_HMAC = h.digest()\n",
    "h = HMAC.new(HMAC_SHA256_Salt, digestmod=SHA256)\n",
    "h.update(SHA1_HMAC)\n",
    "SHA256_HMAC = h.hexdigest()\n",
    "h = SHA256.new()\n",
    "h.update(SHA256_HMAC.encode('utf-8'))\n",
    "print (h.hexdigest())\n"
   ]
  },
  {
   "cell_type": "code",
   "execution_count": null,
   "metadata": {
    "collapsed": true
   },
   "outputs": [],
   "source": []
  }
 ],
 "metadata": {
  "kernelspec": {
   "display_name": "Python 3",
   "language": "python",
   "name": "python3"
  },
  "language_info": {
   "codemirror_mode": {
    "name": "ipython",
    "version": 3
   },
   "file_extension": ".py",
   "mimetype": "text/x-python",
   "name": "python",
   "nbconvert_exporter": "python",
   "pygments_lexer": "ipython3",
   "version": "3.5.1"
  }
 },
 "nbformat": 4,
 "nbformat_minor": 2
}
