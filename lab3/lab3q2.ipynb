{
 "cells": [
  {
   "cell_type": "code",
   "execution_count": 1,
   "metadata": {
    "collapsed": true
   },
   "outputs": [],
   "source": [
    "from Crypto.Cipher import AES\n",
    "from Crypto.Hash import SHA256\n",
    "from Crypto.Util.strxor import strxor\n",
    "from binascii import hexlify, unhexlify\n",
    "import string\n",
    "import re"
   ]
  },
  {
   "cell_type": "code",
   "execution_count": 2,
   "metadata": {
    "collapsed": true
   },
   "outputs": [],
   "source": [
    "def string_2_hex(my_input):\n",
    "    numbers = [ord(a) for a in my_input]\n",
    "\n",
    "    result=\"\"\n",
    "    for i in numbers:\n",
    "        if len(format(i,'x'))==1:\n",
    "            result+=\"0\"+format(i,'0x')    #hex() does  the same thing \n",
    "        else:\n",
    "            result+=format(i,'0x')\n",
    "   \n",
    "    \n",
    "    return(result)"
   ]
  },
  {
   "cell_type": "code",
   "execution_count": 3,
   "metadata": {
    "collapsed": true
   },
   "outputs": [],
   "source": [
    "def hex_2_string(my_input):\n",
    "\n",
    "    hexs = re.findall('..',my_input)\n",
    "    byte = result = [int(i, 16) for i in hexs]\n",
    "    numbers = map(int, byte)\n",
    "    result=\"\"\n",
    "    for i in numbers:\n",
    "        result+= chr(i)\n",
    "    return(result)\n",
    "\n"
   ]
  },
  {
   "cell_type": "code",
   "execution_count": 4,
   "metadata": {
    "collapsed": true
   },
   "outputs": [],
   "source": [
    "def bytes_2_hex(my_input):\n",
    "    numbers = map(int, my_input.split())\n",
    "\n",
    "    result=\"\"\n",
    "    for i in numbers:\n",
    "        if len(format(i,'x'))==1:\n",
    "         result+=\"0\"+format(i,'0x')\n",
    "        else:\n",
    "         result+=format(i,'0x')\n",
    "    \n",
    "\n",
    "    return(result) "
   ]
  },
  {
   "cell_type": "code",
   "execution_count": 5,
   "metadata": {
    "collapsed": true
   },
   "outputs": [],
   "source": [
    "def Encipher(key, X):\n",
    "  assert(len(X) == 16)               # 1 block == 16 bytes\n",
    "  perm = AES.new(key, AES.MODE_ECB)  # ECB mode is a way to access the cipher directly\n",
    "  Y = perm.encrypt(X)                # Compute AES in forward direction\n",
    "  return Y                           # Return output as raw bytes"
   ]
  },
  {
   "cell_type": "code",
   "execution_count": 6,
   "metadata": {
    "collapsed": true
   },
   "outputs": [],
   "source": [
    "def cbcmac(K,M):\n",
    "    message_partition = []\n",
    "    \n",
    "    for i in range(0,len(M),16):\n",
    "        message_partition+= [M[i:i+16]]\n",
    "    #print(message_partition) \n",
    "    \n",
    "    for i in range(len(message_partition)):\n",
    "        if i ==0:  # first block is special\n",
    "            #print((M[i]))\n",
    "            tagi = Encipher(K,message_partition[i])  #where tagi is intermediate tags\n",
    "   \n",
    "        else:\n",
    "            tagi = Encipher(K,strxor(message_partition[i],tagi))    #where tagi is intermediate tags\n",
    "            print(\"me\",strxor(message_partition[i],tagi))\n",
    "            print((tagi))\n",
    "    final_tag = tagi\n",
    "\n",
    "    return (final_tag)\n",
    "                \n"
   ]
  },
  {
   "cell_type": "code",
   "execution_count": 66,
   "metadata": {
    "collapsed": true
   },
   "outputs": [],
   "source": [
    "#key1 = b\"super secret key\"\n",
    "key1 = b\"sixteen byte key\"\n",
    "message1= b\"print(\\\"CBC-MAC is a very strong hash function!\\\")\"\n",
    "#print(len(key1))\n",
    "#message1 = 'Ïí  eUIÂÞ¾9;k  C  q  Iñ îË   ÓL\"I need more timeI need more time'"
   ]
  },
  {
   "cell_type": "code",
   "execution_count": 67,
   "metadata": {},
   "outputs": [
    {
     "name": "stdout",
     "output_type": "stream",
     "text": [
      "[b'print(\"CBC-MAC i']\n",
      "[b'print(\"CBC-MAC i', b's a very strong ']\n",
      "[b'print(\"CBC-MAC i', b's a very strong ', b'hash function!\")']\n"
     ]
    }
   ],
   "source": [
    "message_partition = []\n",
    "for i in range(0,len(message1),16):\n",
    "    message_partition+= [message1[i:i+16]]\n",
    "    print(message_partition) \n",
    "    \n",
    "\n",
    "\n",
    "\n",
    "\n"
   ]
  },
  {
   "cell_type": "code",
   "execution_count": 68,
   "metadata": {},
   "outputs": [
    {
     "data": {
      "text/plain": [
       "b'\\xe4\\xff!t:\\x154@y\\x1b\\xea#\\x02m\\x8a\\x88DG\\xc7\\xa1\\x93\\x8f\\t\\xd1\\xb9\\xb2\\x7f\\ni\\xb8K\\xe0'"
      ]
     },
     "execution_count": 68,
     "metadata": {},
     "output_type": "execute_result"
    }
   ],
   "source": [
    "b'\\xe4\\xff!t:\\x154@y\\x1b\\xea#\\x02m\\x8a\\x88DG\\xc7\\xa1\\x93\\x8f\\t\\xd1\\xb9\\xb2\\x7f\\ni\\xb8K\\xe0'"
   ]
  },
  {
   "cell_type": "code",
   "execution_count": 69,
   "metadata": {},
   "outputs": [
    {
     "name": "stdout",
     "output_type": "stream",
     "text": [
      "me b'\\xdc\\x10p\\x90\\\\\\xde1\\x01bE\\xd7\\xd8\\xdb\\xb4\\n\\xe9'\n",
      "b'\\xaf0\\x11\\xb0*\\xbbCxB6\\xa3\\xaa\\xb4\\xdam\\xc9'\n",
      "me b\"Mi\\xa7\\x99-\\x12cA'B\\xe4\\xe1\\x12&\\xfe\\x97\"\n",
      "b'%\\x08\\xd4\\xf1\\rt\\x16/D6\\x8d\\x8e|\\x07\\xdc\\xbe'\n",
      "2508d4f10d74162f44368d8e7c07dcbe\n"
     ]
    }
   ],
   "source": [
    "h = SHA256.new()\n",
    "answer = cbcmac(key1,message1)\n",
    "hex_answer=((hexlify(answer)).decode('utf-8'))\n",
    "\n",
    "print(hex_answer)\n",
    "\n"
   ]
  },
  {
   "cell_type": "code",
   "execution_count": 70,
   "metadata": {},
   "outputs": [
    {
     "data": {
      "text/plain": [
       "b'\\x91;(\\xf6\\x18\\x92\\xbd\\xf6\\xd6\\x90\\x02L\\x04\\xab\\x8b\\x11'"
      ]
     },
     "execution_count": 70,
     "metadata": {},
     "output_type": "execute_result"
    }
   ],
   "source": [
    "b'\\x91;(\\xf6\\x18\\x92\\xbd\\xf6\\xd6\\x90\\x02L\\x04\\xab\\x8b\\x11'"
   ]
  },
  {
   "cell_type": "code",
   "execution_count": 71,
   "metadata": {},
   "outputs": [
    {
     "data": {
      "text/plain": [
       "'0123456789abcdefghijklmnopqrstuvwxyzABCDEFGHIJKLMNOPQRSTUVWXYZ!\"#$%&\\'()*+,-./:;<=>?@[\\\\]^_`{|}~ \\t\\n\\r\\x0b\\x0c'"
      ]
     },
     "execution_count": 71,
     "metadata": {},
     "output_type": "execute_result"
    }
   ],
   "source": [
    "string.printable"
   ]
  },
  {
   "cell_type": "code",
   "execution_count": 72,
   "metadata": {
    "collapsed": true
   },
   "outputs": [],
   "source": [
    "def cbcmac_32(K,M):\n",
    "    message_partition = []\n",
    "    for i in range(0,len(M),32):\n",
    "        message_partition+= [M[i:i+32]]\n",
    "    #print(message_partition) \n",
    "    \n",
    "    for i in range(len(message_partition)):\n",
    "        if i ==0:  # first block is special\n",
    "            #print((M[i]))\n",
    "            tagi = Encipher(K,message_partition[i])  #where tagi is intermediate tags\n",
    "   \n",
    "        else:\n",
    "            tagi = Encipher(K,strxor(message_partition[i],tagi))    #where tagi is intermediate tags\n",
    "            print((tagi))\n",
    "    final_tag = tagi\n",
    "\n",
    "    return (final_tag)\n",
    "    \n",
    "\n"
   ]
  },
  {
   "cell_type": "code",
   "execution_count": 73,
   "metadata": {
    "collapsed": true
   },
   "outputs": [],
   "source": [
    "msg3 = string_2_hex(\"I need more time\")\n",
    "msg3 = (msg3.encode('utf-8'))"
   ]
  },
  {
   "cell_type": "code",
   "execution_count": 83,
   "metadata": {},
   "outputs": [
    {
     "name": "stdout",
     "output_type": "stream",
     "text": [
      "49206e656564206d6f72652074696d65\n",
      "b'49206e656564206d6f72652074696d65'\n"
     ]
    }
   ],
   "source": [
    "msg2 = string_2_hex(\"I need more time\")\n",
    "\n",
    "msg2 = (msg2.encode('utf-8'))\n",
    "print(msg2)"
   ]
  },
  {
   "cell_type": "code",
   "execution_count": 75,
   "metadata": {
    "collapsed": true
   },
   "outputs": [],
   "source": [
    "msg1 = b'\\xcf\\xed\\x00\\x97eUI\\xc2\\xde\\xbe9;k\\x98\\x93C\\x0f\\rq\\x8aI\\xf1\\x11\\xee\\xcb\\x8aB\\x8d\\x9a\\x9f\\xd3L'"
   ]
  },
  {
   "cell_type": "code",
   "execution_count": null,
   "metadata": {
    "collapsed": true
   },
   "outputs": [],
   "source": []
  },
  {
   "cell_type": "code",
   "execution_count": 76,
   "metadata": {
    "collapsed": true
   },
   "outputs": [],
   "source": [
    "final_message = msg1+msg2+msg3"
   ]
  },
  {
   "cell_type": "code",
   "execution_count": 77,
   "metadata": {},
   "outputs": [
    {
     "name": "stdout",
     "output_type": "stream",
     "text": [
      "b'TjN\\\\\\xf4\\x80\\xdd\\x1c\\xbe\\x0790CC8\\xed\\xa0w\\xb02\\xaffB\\xb6\\x94\\xce\\xe6\\x90\\x9d$n\\x8f'\n",
      "b'2508d4f10d74162f44368d8e7c07dcbe'\n"
     ]
    },
    {
     "data": {
      "text/plain": [
       "b'2508d4f10d74162f44368d8e7c07dcbe'"
      ]
     },
     "execution_count": 77,
     "metadata": {},
     "output_type": "execute_result"
    }
   ],
   "source": [
    "cbcmac_32(key1,final_message)"
   ]
  },
  {
   "cell_type": "code",
   "execution_count": 78,
   "metadata": {},
   "outputs": [
    {
     "ename": "TypeError",
     "evalue": "'in <string>' requires string as left operand, not list",
     "output_type": "error",
     "traceback": [
      "\u001b[0;31m---------------------------------------------------------------------------\u001b[0m",
      "\u001b[0;31mTypeError\u001b[0m                                 Traceback (most recent call last)",
      "\u001b[0;32m<ipython-input-78-34e971470ab3>\u001b[0m in \u001b[0;36m<module>\u001b[0;34m()\u001b[0m\n\u001b[0;32m----> 1\u001b[0;31m \u001b[0;32mif\u001b[0m \u001b[0;34m\"ram\"\u001b[0m\u001b[0;34m.\u001b[0m\u001b[0msplit\u001b[0m\u001b[0;34m(\u001b[0m\u001b[0;34m)\u001b[0m \u001b[0;32min\u001b[0m \u001b[0mstring\u001b[0m\u001b[0;34m.\u001b[0m\u001b[0mprintable\u001b[0m\u001b[0;34m:\u001b[0m\u001b[0;34m\u001b[0m\u001b[0m\n\u001b[0m\u001b[1;32m      2\u001b[0m     \u001b[0mprint\u001b[0m\u001b[0;34m(\u001b[0m\u001b[0;34m\"right\"\u001b[0m\u001b[0;34m)\u001b[0m\u001b[0;34m\u001b[0m\u001b[0m\n\u001b[1;32m      3\u001b[0m \u001b[0;32melse\u001b[0m\u001b[0;34m:\u001b[0m\u001b[0;34m\u001b[0m\u001b[0m\n\u001b[1;32m      4\u001b[0m     \u001b[0mprint\u001b[0m\u001b[0;34m(\u001b[0m\u001b[0;34m\"wrong\"\u001b[0m\u001b[0;34m)\u001b[0m\u001b[0;34m\u001b[0m\u001b[0m\n",
      "\u001b[0;31mTypeError\u001b[0m: 'in <string>' requires string as left operand, not list"
     ]
    }
   ],
   "source": [
    "if \"ram\".split() in string.printable:\n",
    "    print(\"right\")\n",
    "else:\n",
    "    print(\"wrong\")"
   ]
  },
  {
   "cell_type": "code",
   "execution_count": 79,
   "metadata": {
    "collapsed": true
   },
   "outputs": [],
   "source": [
    "msg1=b\"fb7dc2b6d43682ab6647eeaef7a50134\""
   ]
  },
  {
   "cell_type": "code",
   "execution_count": null,
   "metadata": {
    "collapsed": true
   },
   "outputs": [],
   "source": []
  },
  {
   "cell_type": "code",
   "execution_count": 80,
   "metadata": {
    "collapsed": true
   },
   "outputs": [],
   "source": [
    "msg1=string_2_hex(\"print(\\\"CBC-MAC n\")\n",
    "msg2= string_2_hex('ot a hash\",aaaaa')\n",
    "msg3 = b'fb7dc2b6d43682ab6647eeaef7a50134'\n",
    "#msg3 = b'û}Â¶Ô6«fGî®÷¥\u00014'"
   ]
  },
  {
   "cell_type": "code",
   "execution_count": 81,
   "metadata": {
    "collapsed": true
   },
   "outputs": [],
   "source": [
    "final_msg = msg1+msg2+msg3\n"
   ]
  },
  {
   "cell_type": "code",
   "execution_count": 82,
   "metadata": {},
   "outputs": [
    {
     "name": "stdout",
     "output_type": "stream",
     "text": [
      "b'9\\x92?O\\xdc\\x17S\\xab\\xfb\\x01\\t~\\xdf\\x10\\xc1jn\\xce\\xa3\\xda\\xa5\\xdf\\x93\\x8f\\xb6\\xd6\\\\\\xd6\\x18\\x84\\xb4]'\n",
      "b',\\xfe\\xb2\\x7f#\\x14\\xce\\xa9\\xff\\xc1Q\\xb9\\xe3\\xc5\\xd8\\xa1\\xe8q\\xd4\\xad\\xb2H\\xa4\\xf3\\xa1m\\x03@\\x1a%\\xe7@'\n"
     ]
    },
    {
     "data": {
      "text/plain": [
       "b',\\xfe\\xb2\\x7f#\\x14\\xce\\xa9\\xff\\xc1Q\\xb9\\xe3\\xc5\\xd8\\xa1\\xe8q\\xd4\\xad\\xb2H\\xa4\\xf3\\xa1m\\x03@\\x1a%\\xe7@'"
      ]
     },
     "execution_count": 82,
     "metadata": {},
     "output_type": "execute_result"
    }
   ],
   "source": [
    "cbcmac_32(key1,final_msg)"
   ]
  },
  {
   "cell_type": "code",
   "execution_count": null,
   "metadata": {
    "collapsed": true
   },
   "outputs": [],
   "source": []
  },
  {
   "cell_type": "code",
   "execution_count": null,
   "metadata": {
    "collapsed": true
   },
   "outputs": [],
   "source": []
  }
 ],
 "metadata": {
  "kernelspec": {
   "display_name": "Python 3",
   "language": "python",
   "name": "python3"
  },
  "language_info": {
   "codemirror_mode": {
    "name": "ipython",
    "version": 3
   },
   "file_extension": ".py",
   "mimetype": "text/x-python",
   "name": "python",
   "nbconvert_exporter": "python",
   "pygments_lexer": "ipython3",
   "version": "3.5.1"
  }
 },
 "nbformat": 4,
 "nbformat_minor": 2
}
