{
 "cells": [
  {
   "cell_type": "code",
   "execution_count": 8,
   "metadata": {},
   "outputs": [
    {
     "name": "stdout",
     "output_type": "stream",
     "text": [
      "4bef6a58b8480885b88b5421699aa7f188aa03a55896cb684159b33e591a813c\n"
     ]
    }
   ],
   "source": [
    "from Crypto.Cipher import AES\n",
    "from Crypto.Hash import SHA256\n",
    "from Crypto.Util.strxor import strxor\n",
    "from binascii import hexlify, unhexlify\n",
    "import string\n",
    "import re\n",
    "#------------------------------helper function-------\n",
    "def string_2_hex(my_input):\n",
    "    numbers = [ord(a) for a in my_input]\n",
    "\n",
    "    result=\"\"\n",
    "    for i in numbers:\n",
    "        if len(format(i,'x'))==1:\n",
    "            result+=\"0\"+format(i,'0x')    #hex() does  the same thing \n",
    "        else:\n",
    "            result+=format(i,'0x')\n",
    "   \n",
    "    \n",
    "    return(result)\n",
    "\n",
    "def hex_2_string(my_input):\n",
    "\n",
    "    hexs = re.findall('..',my_input)\n",
    "    byte = result = [int(i, 16) for i in hexs]\n",
    "    numbers = map(int, byte)\n",
    "    result=\"\"\n",
    "    for i in numbers:\n",
    "        result+= chr(i)\n",
    "    return(result)\n",
    "\n",
    "def bytes_2_hex(my_input):\n",
    "    numbers = map(int, my_input.split())\n",
    "\n",
    "    result=\"\"\n",
    "    for i in numbers:\n",
    "        if len(format(i,'x'))==1:\n",
    "         result+=\"0\"+format(i,'0x')\n",
    "        else:\n",
    "         result+=format(i,'0x')\n",
    "    \n",
    "\n",
    "    return(result) \n",
    "\n",
    "def Encipher(key, X):\n",
    "  assert(len(X) == 16)               # 1 block == 16 bytes\n",
    "  perm = AES.new(key, AES.MODE_ECB)  # ECB mode is a way to access the cipher directly\n",
    "  Y = perm.encrypt(X)                # Compute AES in forward direction\n",
    "  return Y                           # Return output as raw bytes\n",
    "\n",
    "\n",
    "def cbcmac(K,M):   # creating cbc mode \n",
    "    message_partition = []\n",
    "    \n",
    "    for i in range(0,len(M),16):\n",
    "        message_partition+= [M[i:i+16]]\n",
    "    #print(message_partition) \n",
    "    \n",
    "    for i in range(len(message_partition)):\n",
    "        if i ==0:  # first block is special\n",
    "            #print((M[i]))\n",
    "            tagi = Encipher(K,message_partition[i])  #where tagi is intermediate tags\n",
    "   \n",
    "        else:\n",
    "            tagi = Encipher(K,strxor(message_partition[i],tagi))    #where tagi is intermediate tags\n",
    "            \n",
    "    final_tag = tagi\n",
    "\n",
    "    return (final_tag)\n",
    "\n",
    "#key1 = b\"super secret key\"\n",
    "key1 = b\"sixteen byte key\"\n",
    "message1= b\"print(\\\"CBC-MAC is a very strong hash function!\\\")\"\n",
    "                \n",
    "h = SHA256.new()\n",
    "answer = cbcmac(key1,message1)\n",
    "hex_answer=((hexlify(answer)))\n",
    "h.update(hex_answer)\n",
    "print(h.hexdigest())\n",
    "\n",
    "\n",
    "\n"
   ]
  },
  {
   "cell_type": "code",
   "execution_count": null,
   "metadata": {
    "collapsed": true
   },
   "outputs": [],
   "source": []
  }
 ],
 "metadata": {
  "kernelspec": {
   "display_name": "Python 3",
   "language": "python",
   "name": "python3"
  },
  "language_info": {
   "codemirror_mode": {
    "name": "ipython",
    "version": 3
   },
   "file_extension": ".py",
   "mimetype": "text/x-python",
   "name": "python",
   "nbconvert_exporter": "python",
   "pygments_lexer": "ipython3",
   "version": "3.5.1"
  }
 },
 "nbformat": 4,
 "nbformat_minor": 2
}
