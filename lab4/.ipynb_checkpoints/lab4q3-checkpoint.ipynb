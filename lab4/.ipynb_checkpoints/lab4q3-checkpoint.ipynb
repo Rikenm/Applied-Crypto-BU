{
 "cells": [
  {
   "cell_type": "code",
   "execution_count": 2,
   "metadata": {
    "collapsed": true
   },
   "outputs": [],
   "source": [
    "from Crypto.Hash import HMAC,SHA256,SHA1,MD5\n",
    "from Crypto.Cipher import AES\n",
    "from Crypto.Hash import SHA256\n",
    "from Crypto.Util.strxor import strxor\n",
    "from binascii import hexlify, unhexlify\n",
    "import string\n",
    "import re"
   ]
  },
  {
   "cell_type": "code",
   "execution_count": 3,
   "metadata": {
    "collapsed": true
   },
   "outputs": [],
   "source": [
    "K = b\"AES w/ fixed key\"\n"
   ]
  },
  {
   "cell_type": "code",
   "execution_count": 4,
   "metadata": {
    "collapsed": true
   },
   "outputs": [],
   "source": [
    "def Encipher(X,key=K):\n",
    "      assert(len(X) == 16)               # 1 block == 16 bytes\n",
    "      perm = AES.new(key, AES.MODE_ECB)  # ECB mode is a way to access the cipher directly\n",
    "      Y = perm.encrypt(X)                # Compute AES in forward direction\n",
    "      return Y                           # Return output as raw bytes"
   ]
  },
  {
   "cell_type": "code",
   "execution_count": 5,
   "metadata": {
    "collapsed": true
   },
   "outputs": [],
   "source": [
    "def Sponge(inputString, outputLen):\n",
    "    rc=bytes([0])*16\n",
    "    iterate = int(len(inputString)/6)\n",
    "    outputLenIterate = int(outputLen/6)\n",
    "    \n",
    "    output = b\"\"\n",
    "    \n",
    "    for i in range(iterate+outputLenIterate):\n",
    "        \n",
    "        if i<iterate:\n",
    "            \n",
    "            I = strxor(rc[:6],inputString[i*6:(i+1)*6])  #input string keep on changing but rc is cosntant\n",
    "            \n",
    "            \n",
    "            I = I+rc[6:]\n",
    "            \n",
    "          \n",
    "            \n",
    "            rc = Encipher(I)\n",
    "        else:\n",
    "            \n",
    "            output+= rc[:6]\n",
    "           \n",
    "            I = rc\n",
    "            \n",
    "            rc= Encipher(I)\n",
    "            \n",
    "\n",
    "    return output\n",
    "    \n",
    "    "
   ]
  },
  {
   "cell_type": "code",
   "execution_count": 6,
   "metadata": {},
   "outputs": [
    {
     "name": "stdout",
     "output_type": "stream",
     "text": [
      "b'0d8d8a67d52925badb92698527cac836204f78cf6b92bcc90a63a21d4fa5'\n",
      "bd4cb8f49fbb6eb82cb749284e8aaf8dc0c12ff56b620f11f739514764394480\n"
     ]
    }
   ],
   "source": [
    "P=b\"the length of this message is a multiple of the 6 byte sponge rate\"\n",
    "answer = (Sponge(P,30))\n",
    "print((hexlify(answer)).decode(\"utf-8\")\n",
    "h = SHA256.new()\n",
    "h.update(hexlify(answer))\n",
    "print(h.hexdigest())"
   ]
  },
  {
   "cell_type": "code",
   "execution_count": null,
   "metadata": {
    "collapsed": true
   },
   "outputs": [],
   "source": []
  },
  {
   "cell_type": "code",
   "execution_count": null,
   "metadata": {
    "collapsed": true
   },
   "outputs": [],
   "source": []
  },
  {
   "cell_type": "code",
   "execution_count": null,
   "metadata": {
    "collapsed": true
   },
   "outputs": [],
   "source": []
  },
  {
   "cell_type": "code",
   "execution_count": null,
   "metadata": {
    "collapsed": true
   },
   "outputs": [],
   "source": []
  },
  {
   "cell_type": "code",
   "execution_count": null,
   "metadata": {
    "collapsed": true
   },
   "outputs": [],
   "source": []
  }
 ],
 "metadata": {
  "kernelspec": {
   "display_name": "Python 3",
   "language": "python",
   "name": "python3"
  },
  "language_info": {
   "codemirror_mode": {
    "name": "ipython",
    "version": 3
   },
   "file_extension": ".py",
   "mimetype": "text/x-python",
   "name": "python",
   "nbconvert_exporter": "python",
   "pygments_lexer": "ipython3",
   "version": "3.5.1"
  }
 },
 "nbformat": 4,
 "nbformat_minor": 2
}
