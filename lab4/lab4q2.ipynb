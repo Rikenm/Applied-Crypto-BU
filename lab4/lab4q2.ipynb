{
 "cells": [
  {
   "cell_type": "code",
   "execution_count": null,
   "metadata": {
    "collapsed": true
   },
   "outputs": [],
   "source": []
  },
  {
   "cell_type": "code",
   "execution_count": 1,
   "metadata": {
    "collapsed": true
   },
   "outputs": [],
   "source": [
    "with open(\"jdibsyenkxs5hd.txt\") as file:\n",
    "    data=file.read()\n",
    "    data_string = (data)"
   ]
  },
  {
   "cell_type": "code",
   "execution_count": 2,
   "metadata": {
    "collapsed": true
   },
   "outputs": [],
   "source": [
    "my_list = data_string.split(\"\\n\")\n",
    "my_list = my_list[:-1]\n",
    "answer = \"\""
   ]
  },
  {
   "cell_type": "code",
   "execution_count": 7,
   "metadata": {},
   "outputs": [
    {
     "name": "stdout",
     "output_type": "stream",
     "text": [
      "382dc447c96d2d5df4f60cd07fa94680\n",
      "382dc447c96d2d5df4f60cd07fa94680\n",
      "382dc447c96d2d5df4f60cd07fa94680\n",
      "382dc447c96d2d5df4f60cd07fa94680\n",
      "382dc447c96d2d5df4f60cd07fa94680\n",
      "382dc447c96d2d5df4f60cd07fa94680\n",
      "382dc447c96d2d5df4f60cd07fa94680\n",
      "382dc447c96d2d5df4f60cd07fa94680\n",
      "382dc447c96d2d5df4f60cd07fa94680\n",
      "382dc447c96d2d5df4f60cd07fa94680\n",
      "382dc447c96d2d5df4f60cd07fa94680\n",
      "382dc447c96d2d5df4f60cd07fa94680\n"
     ]
    }
   ],
   "source": [
    "for i in range(len(my_list)):\n",
    "    for j in range(10):\n",
    "        for k in range(10):\n",
    "               if (my_list[i][j*32:(j+1)*32] == my_list[i][k*32:(k+1)*32] and j != k) :\n",
    "                    print(my_list[i][j*32:(j+1)*32])\n",
    "                    answer = i\n",
    "                   \n",
    "               \n",
    "                    \n",
    "            \n",
    "        "
   ]
  },
  {
   "cell_type": "code",
   "execution_count": 8,
   "metadata": {},
   "outputs": [
    {
     "name": "stdout",
     "output_type": "stream",
     "text": [
      "75bb2458430b11d9fbd146b6f250dd2e0bed0404c9f3a2f1bd6f8c89c081304d382dc447c96d2d5df4f60cd07fa9468030b6a987451984665dcea6d8bae39a79382dc447c96d2d5df4f60cd07fa94680a5fb28e7c9d94979564d1cbdfd9c5749382dc447c96d2d5df4f60cd07fa94680d3a018c13a8a0487b91a8a047916088d382dc447c96d2d5df4f60cd07fa94680a681abf60b68385c321c2f33992b15ba\n"
     ]
    }
   ],
   "source": [
    "print(my_list[answer])"
   ]
  },
  {
   "cell_type": "code",
   "execution_count": null,
   "metadata": {
    "collapsed": true
   },
   "outputs": [],
   "source": []
  },
  {
   "cell_type": "code",
   "execution_count": null,
   "metadata": {
    "collapsed": true
   },
   "outputs": [],
   "source": []
  },
  {
   "cell_type": "code",
   "execution_count": null,
   "metadata": {
    "collapsed": true
   },
   "outputs": [],
   "source": []
  },
  {
   "cell_type": "code",
   "execution_count": null,
   "metadata": {
    "collapsed": true
   },
   "outputs": [],
   "source": []
  },
  {
   "cell_type": "code",
   "execution_count": null,
   "metadata": {
    "collapsed": true
   },
   "outputs": [],
   "source": []
  },
  {
   "cell_type": "code",
   "execution_count": null,
   "metadata": {
    "collapsed": true
   },
   "outputs": [],
   "source": []
  }
 ],
 "metadata": {
  "kernelspec": {
   "display_name": "Python 3",
   "language": "python",
   "name": "python3"
  },
  "language_info": {
   "codemirror_mode": {
    "name": "ipython",
    "version": 3
   },
   "file_extension": ".py",
   "mimetype": "text/x-python",
   "name": "python",
   "nbconvert_exporter": "python",
   "pygments_lexer": "ipython3",
   "version": "3.5.1"
  }
 },
 "nbformat": 4,
 "nbformat_minor": 2
}
