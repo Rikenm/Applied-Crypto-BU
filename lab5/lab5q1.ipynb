{
 "cells": [
  {
   "cell_type": "code",
   "execution_count": 2,
   "metadata": {
    "collapsed": true
   },
   "outputs": [],
   "source": [
    "\n",
    "\n",
    "\n",
    "\n",
    "from binascii import hexlify, unhexlify\n",
    "import string\n",
    "import re\n",
    "import argparse\n",
    "import sys\n",
    "\n"
   ]
  },
  {
   "cell_type": "code",
   "execution_count": 29,
   "metadata": {
    "collapsed": true
   },
   "outputs": [],
   "source": [
    "def remove_binding(x):\n",
    "    \n",
    "    x = unhexlify(x)\n",
    "    print(\"intro\",x[-1])\n",
    "    # three errors\n",
    "    if (len(x)%16 != 0):\n",
    "        print(\"length error\")\n",
    "        return \"ERROR\"\n",
    "    \n",
    "    last_byte = x[-1]\n",
    "    \n",
    "    \n",
    "    # iterate all the padding and check if same\n",
    "    for i in range(-1,(-1*(last_byte+1)),-1):\n",
    "        print(x[i])\n",
    "        if last_byte != x[i]:\n",
    "            \n",
    "            print(\"2 and 3rd error\")\n",
    "            return \"ERROR\"\n",
    "    \n",
    "    print(\"PASS\")\n",
    "    return(x[:(-1*(last_byte))].decode())\n",
    "        \n",
    "        \n",
    "    \n",
    "\n",
    "    \n",
    "        \n",
    "if __name__==\"__main__\":\n",
    "    print()\n",
    "     remove_binding(sys.argv[1:])    \n",
    "    \n",
    "    "
   ]
  },
  {
   "cell_type": "code",
   "execution_count": null,
   "metadata": {
    "collapsed": true
   },
   "outputs": [],
   "source": []
  },
  {
   "cell_type": "code",
   "execution_count": 30,
   "metadata": {},
   "outputs": [
    {
     "data": {
      "text/plain": [
       "'50414444494e47205445535420495320'"
      ]
     },
     "execution_count": 30,
     "metadata": {},
     "output_type": "execute_result"
    }
   ],
   "source": [
    "R = hexlify(b\"PADDING TEST\")\n",
    "value = (\"PADDING TEST IS \".encode('utf-8')).hex()\n",
    "value"
   ]
  },
  {
   "cell_type": "code",
   "execution_count": 36,
   "metadata": {},
   "outputs": [
    {
     "name": "stdout",
     "output_type": "stream",
     "text": [
      "intro 16\n",
      "16\n",
      "16\n",
      "16\n",
      "16\n",
      "16\n",
      "16\n",
      "16\n",
      "16\n",
      "16\n",
      "16\n",
      "16\n",
      "16\n",
      "16\n",
      "16\n",
      "16\n",
      "16\n",
      "PASS\n"
     ]
    }
   ],
   "source": [
    "my_guess = remove_binding(\"50414444494e4720544553542049532010101010101010101010101010101010\")"
   ]
  },
  {
   "cell_type": "code",
   "execution_count": 37,
   "metadata": {},
   "outputs": [
    {
     "data": {
      "text/plain": [
       "'PADDING TEST IS '"
      ]
     },
     "execution_count": 37,
     "metadata": {},
     "output_type": "execute_result"
    }
   ],
   "source": [
    "my_guess"
   ]
  },
  {
   "cell_type": "code",
   "execution_count": null,
   "metadata": {
    "collapsed": true
   },
   "outputs": [],
   "source": []
  },
  {
   "cell_type": "code",
   "execution_count": null,
   "metadata": {
    "collapsed": true
   },
   "outputs": [],
   "source": []
  },
  {
   "cell_type": "code",
   "execution_count": null,
   "metadata": {
    "collapsed": true
   },
   "outputs": [],
   "source": []
  }
 ],
 "metadata": {
  "kernelspec": {
   "display_name": "Python 3",
   "language": "python",
   "name": "python3"
  },
  "language_info": {
   "codemirror_mode": {
    "name": "ipython",
    "version": 3
   },
   "file_extension": ".py",
   "mimetype": "text/x-python",
   "name": "python",
   "nbconvert_exporter": "python",
   "pygments_lexer": "ipython3",
   "version": "3.5.1"
  }
 },
 "nbformat": 4,
 "nbformat_minor": 2
}
