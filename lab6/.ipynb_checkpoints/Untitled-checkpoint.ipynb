{
 "cells": [
  {
   "cell_type": "code",
   "execution_count": 105,
   "metadata": {
    "collapsed": true
   },
   "outputs": [],
   "source": [
    "\n",
    "from Crypto.Hash import HMAC\n",
    "from Crypto.Cipher import AES\n",
    "from Crypto.Hash import SHA as SHA1\n",
    "from binascii import unhexlify,hexlify\n",
    "\n",
    "def hmacsha1(key, message):\n",
    "    return HMAC.new(key, message, SHA1).hexdigest() # Note: output is revealed in hex\n",
    "\n",
    "\n",
    "\n",
    "def verify_then_decrypt(aes_key,hmac_key,alice_blob):\n",
    "    cipher = unhexlify((alice_blob[32:-40]))\n",
    "    IV = unhexlify(alice_blob[:32])\n",
    "    mac = alice_blob[-40:]\n",
    "    \n",
    "    #print(hexlify(cipher))\n",
    "    \n",
    "\n",
    "    \n",
    "    \n",
    "    \n",
    "    if hmacsha1(hmac_key,cipher)== mac:\n",
    "        H = AES.new(aes_key, AES.MODE_CBC,IV)\n",
    "        x = H.decrypt(cipher)\n",
    "        last_byte = x[-1]\n",
    "        #print(x)\n",
    "\n",
    "       \n",
    "        for i in range(-1,(-1*(last_byte+1)),-1):\n",
    "            \n",
    "               \n",
    "        \n",
    "                if last_byte != x[i]:     # will never hit \n",
    "                    return(\"ERROR\")\n",
    "    \n",
    "    \n",
    "        return(x[:(-1*(last_byte))].decode())\n",
    "    \n",
    "    else:\n",
    "        return(\"ERROR\")\n",
    "        \n",
    "        \n",
    "    \n",
    "        \n",
    "        \n",
    "    \n",
    "    \n",
    "    \n",
    "    \n"
   ]
  },
  {
   "cell_type": "code",
   "execution_count": 107,
   "metadata": {},
   "outputs": [
    {
     "name": "stdout",
     "output_type": "stream",
     "text": [
      "valid message\n"
     ]
    }
   ],
   "source": [
    "aes_key  = unhexlify('7369787465656e2062797465206b6579')\n",
    "hmac_key = unhexlify('7477656e74792062797465206c6f6e67206b6579')\n",
    "alice_blob ='00000000000000000000000000000000a70c430ebf35441874ac9f758c59ee10d19636b72f2b71d8a87d922df0108d471cbd58c3'\n",
    "bad_alice_blob ='000000000000000000000000000000006211c37da2d51fb1737cf55b125f8c8a333116c890843276981145e8781fa27bb573ce2c'\n",
    "\n",
    "\n",
    "\n",
    "x = verify_then_decrypt(aes_key,hmac_key,alice_blob)\n",
    "print(x)\n",
    "\n",
    "    \n"
   ]
  },
  {
   "cell_type": "code",
   "execution_count": null,
   "metadata": {},
   "outputs": [],
   "source": []
  },
  {
   "cell_type": "code",
   "execution_count": null,
   "metadata": {
    "collapsed": true
   },
   "outputs": [],
   "source": []
  },
  {
   "cell_type": "code",
   "execution_count": null,
   "metadata": {
    "collapsed": true
   },
   "outputs": [],
   "source": []
  }
 ],
 "metadata": {
  "kernelspec": {
   "display_name": "Python 3",
   "language": "python",
   "name": "python3"
  },
  "language_info": {
   "codemirror_mode": {
    "name": "ipython",
    "version": 3
   },
   "file_extension": ".py",
   "mimetype": "text/x-python",
   "name": "python",
   "nbconvert_exporter": "python",
   "pygments_lexer": "ipython3",
   "version": "3.5.1"
  }
 },
 "nbformat": 4,
 "nbformat_minor": 2
}
