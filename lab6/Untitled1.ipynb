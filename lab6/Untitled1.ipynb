{
 "cells": [
  {
   "cell_type": "code",
   "execution_count": 1,
   "metadata": {
    "collapsed": true
   },
   "outputs": [],
   "source": [
    "from Crypto.Hash import HMAC\n",
    "from Crypto.Hash import SHA as SHA1\n",
    "from Crypto.Util.strxor import strxor\n",
    "from binascii import hexlify, unhexlify\n",
    "\n",
    "def hmacsha1(key, message):\n",
    "    return HMAC.new(key, message, SHA1).hexdigest() # Note: output is revealed in hex\n",
    "\n",
    "\n",
    "\n",
    "def leaky_hmac_verify(key, message, claimed_tag):\n",
    "    # Assume that the tag is well-formed, so it's even possible to be the hex encoding of an HMAC-SHA1 output (which would be 20 bytes long)\n",
    "    assert(len(claimed_tag) == 40)\n",
    "\n",
    "    # Test validity of the claimed tag\n",
    "    valid_tag = hmacsha1(key, message)                         # This is what the tag should be, in hex\n",
    "\n",
    "    is_valid_tag = (claimed_tag == valid_tag)\n",
    "\n",
    "    if(is_valid_tag):                                          # The tag is valid, so the \"first difference\" is after the end of the string\n",
    "        return [is_valid_tag, 4 * len(valid_tag)]\n",
    "    else:                                                      # The tag is invalid, and we must find the location of the first difference\n",
    "        diff = hexlify(strxor(unhexlify(claimed_tag),          # To do so, we take the xor between the (raw) tag and valid_tag\n",
    "                              unhexlify(valid_tag)))           # and then find the first non-zero bit in this string (which is easier to do when hexlify'd)\n",
    "        diffstrip = diff.lstrip(\"0\".encode())                       # Remove all of the leading hex-0 characters\n",
    "        first_diff_location = 4 * (len(diff) - len(diffstrip)) # Each leading hex-0 denotes four bits that are identical between the two strings\n",
    "        \n",
    "        #print(\"diff\",diff)\n",
    "        \n",
    "        #print(\"diffstrip\",diffstrip)\n",
    "        \n",
    "        #print(\"first_diff_location\",first_diff_location)\n",
    "        \n",
    "        \n",
    "        char = chr(diffstrip[0])                              # This character is guaranteed to be a non-zero hex character\n",
    "        leading_bits = {'1' : 3,                               # This dictionary provides the # of leading zero bits for each non-zero hex character\n",
    "                        '2' : 2,\n",
    "                        '3' : 2,\n",
    "                        '4' : 1,\n",
    "                        '5' : 1,\n",
    "                        '6' : 1,\n",
    "                        '7' : 1,\n",
    "                        '8' : 0,\n",
    "                        '9' : 0,\n",
    "                        'a' : 0,\n",
    "                        'b' : 0,\n",
    "                        'c' : 0,\n",
    "                        'd' : 0,\n",
    "                        'e' : 0,\n",
    "                        'f' : 0,}\n",
    "        first_diff_location += leading_bits[char]\n",
    "        return [is_valid_tag, first_diff_location]             # Return whether the tag is correct *and* the location of the first difference"
   ]
  },
  {
   "cell_type": "code",
   "execution_count": 7,
   "metadata": {},
   "outputs": [],
   "source": [
    "def forge(key):\n",
    "    key = unhexlify(key)\n",
    "    message = b\"This message was definitely sent by Alice\"\n",
    "    claimed_tag = \"0acd1f0248b85cf5f26ab4102110ae99c8de8188\"\n",
    "    #d19636b72f2b71d8a87d922df0108d471cbd58c3\n",
    "    answer = leaky_hmac_verify(key, message, claimed_tag)\n",
    "    print(\"first\",answer[1])\n",
    "    index = 0\n",
    "    iterate_this = ['0','1','2','3','4','5','6','7','8','9','a','b','c','d','e','f']\n",
    "    \n",
    "    max_answer = answer[1]\n",
    "    \n",
    "    while(answer[1]!=160):\n",
    "        \n",
    "        \n",
    "        \n",
    "        \n",
    "        #print(index,answer[1]-index,(answer[1]-index) % 4)\n",
    "        if((max_answer -index) % 4 == 0):\n",
    "            #print(\"error at:\",answer[1]-index)\n",
    "            for i in iterate_this:\n",
    "                \n",
    "                if i=='0':\n",
    "                    j =(int((max_answer-index)/4))\n",
    "                    \n",
    "                print(claimed_tag[:j])\n",
    "                print(i)\n",
    "                print(claimed_tag[j+1:])\n",
    "                claimed_tag = claimed_tag[:j]+i+claimed_tag[j+1:]\n",
    "                print(claimed_tag)\n",
    "                answer = leaky_hmac_verify(key, message, claimed_tag)\n",
    "                print(claimed_tag,answer[1])\n",
    "                \n",
    "                \n",
    "                if answer[1] == 160:\n",
    "                    #print(\"hello\",claimed_tag)\n",
    "                    max_i = i\n",
    "                    break\n",
    "                \n",
    "                \n",
    "                if max_answer < answer[1]:\n",
    "                    max_answer = answer[1]\n",
    "                    max_i = i\n",
    "                    \n",
    "                \n",
    "                print(\"entering and saving as answer is \",max_answer,i,index,j, max_i)\n",
    "                \n",
    "            claimed_tag = claimed_tag[:j]+max_i+claimed_tag[j+1:]\n",
    "            print(claimed_tag )\n",
    "                    #break\n",
    "                    \n",
    "                    \n",
    "                \n",
    "                \n",
    "                \n",
    "                \n",
    "            \n",
    "            \n",
    "            \n",
    "        index = index+1\n",
    "        \n",
    "        if index == 4:\n",
    "            index=0\n",
    "        \n",
    "        \n",
    "            \n",
    "        print(\"---------\")    \n",
    "            \n",
    "            \n",
    "            \n",
    "        \n",
    "    \n",
    "    \n",
    "    "
   ]
  },
  {
   "cell_type": "code",
   "execution_count": 8,
   "metadata": {
    "scrolled": true
   },
   "outputs": [
    {
     "name": "stdout",
     "output_type": "stream",
     "text": [
      "first 156\n",
      "0acd1f0248b85cf5f26ab4102110ae99c8de818\n",
      "0\n",
      "\n",
      "0acd1f0248b85cf5f26ab4102110ae99c8de8180\n",
      "0acd1f0248b85cf5f26ab4102110ae99c8de8180 157\n",
      "entering and saving as answer is  157 0 0 39 0\n",
      "0acd1f0248b85cf5f26ab4102110ae99c8de818\n",
      "1\n",
      "\n",
      "0acd1f0248b85cf5f26ab4102110ae99c8de8181\n",
      "0acd1f0248b85cf5f26ab4102110ae99c8de8181 157\n",
      "entering and saving as answer is  157 1 0 39 0\n",
      "0acd1f0248b85cf5f26ab4102110ae99c8de818\n",
      "2\n",
      "\n",
      "0acd1f0248b85cf5f26ab4102110ae99c8de8182\n",
      "0acd1f0248b85cf5f26ab4102110ae99c8de8182 157\n",
      "entering and saving as answer is  157 2 0 39 0\n",
      "0acd1f0248b85cf5f26ab4102110ae99c8de818\n",
      "3\n",
      "\n",
      "0acd1f0248b85cf5f26ab4102110ae99c8de8183\n",
      "0acd1f0248b85cf5f26ab4102110ae99c8de8183 157\n",
      "entering and saving as answer is  157 3 0 39 0\n",
      "0acd1f0248b85cf5f26ab4102110ae99c8de818\n",
      "4\n",
      "\n",
      "0acd1f0248b85cf5f26ab4102110ae99c8de8184\n",
      "0acd1f0248b85cf5f26ab4102110ae99c8de8184 158\n",
      "entering and saving as answer is  158 4 0 39 4\n",
      "0acd1f0248b85cf5f26ab4102110ae99c8de818\n",
      "5\n",
      "\n",
      "0acd1f0248b85cf5f26ab4102110ae99c8de8185\n",
      "0acd1f0248b85cf5f26ab4102110ae99c8de8185 158\n",
      "entering and saving as answer is  158 5 0 39 4\n",
      "0acd1f0248b85cf5f26ab4102110ae99c8de818\n",
      "6\n",
      "\n",
      "0acd1f0248b85cf5f26ab4102110ae99c8de8186\n",
      "0acd1f0248b85cf5f26ab4102110ae99c8de8186 159\n",
      "entering and saving as answer is  159 6 0 39 6\n",
      "0acd1f0248b85cf5f26ab4102110ae99c8de818\n",
      "7\n",
      "\n",
      "0acd1f0248b85cf5f26ab4102110ae99c8de8187\n",
      "0acd1f0248b85cf5f26ab4102110ae99c8de8187 160\n",
      "0acd1f0248b85cf5f26ab4102110ae99c8de8187\n",
      "---------\n"
     ]
    }
   ],
   "source": [
    "forge(\"7477656e74792062797465206c6f6e67206b6579\")"
   ]
  },
  {
   "cell_type": "code",
   "execution_count": 4,
   "metadata": {},
   "outputs": [
    {
     "data": {
      "text/plain": [
       "40"
      ]
     },
     "execution_count": 4,
     "metadata": {},
     "output_type": "execute_result"
    }
   ],
   "source": [
    "len(\"d19636b72f2b71d8a87d922df0108d471cbd58c3\")"
   ]
  },
  {
   "cell_type": "code",
   "execution_count": 5,
   "metadata": {},
   "outputs": [
    {
     "name": "stdout",
     "output_type": "stream",
     "text": [
      "[False, 13]\n"
     ]
    }
   ],
   "source": [
    "key = unhexlify(\"7477656e74792062797465206c6f6e67206b6579\")\n",
    "message = unhexlify(\"a70c430ebf35441874ac9f758c59ee10\")\n",
    "claimed_tag = \"d19236b72f2b71d8a87d922df0108d471cbd58c3\"\n",
    "    #d19636b72f2b71d8a87d922df0108d471cbd58c3\n",
    "answer = leaky_hmac_verify(key, message, claimed_tag)\n",
    "print(answer)"
   ]
  },
  {
   "cell_type": "code",
   "execution_count": 6,
   "metadata": {},
   "outputs": [
    {
     "data": {
      "text/plain": [
       "'626f083f408955433a6931ad8ac89f024d50f1fe'"
      ]
     },
     "execution_count": 6,
     "metadata": {},
     "output_type": "execute_result"
    }
   ],
   "source": [
    " hmacsha1(unhexlify(\"7477656e74792062797465206c6f6e67206b6579\"),b\"This message was definitely sent by Alicd\")\n",
    "    "
   ]
  },
  {
   "cell_type": "code",
   "execution_count": null,
   "metadata": {
    "collapsed": true
   },
   "outputs": [],
   "source": []
  }
 ],
 "metadata": {
  "kernelspec": {
   "display_name": "Python 3",
   "language": "python",
   "name": "python3"
  },
  "language_info": {
   "codemirror_mode": {
    "name": "ipython",
    "version": 3
   },
   "file_extension": ".py",
   "mimetype": "text/x-python",
   "name": "python",
   "nbconvert_exporter": "python",
   "pygments_lexer": "ipython3",
   "version": "3.5.1"
  }
 },
 "nbformat": 4,
 "nbformat_minor": 2
}
