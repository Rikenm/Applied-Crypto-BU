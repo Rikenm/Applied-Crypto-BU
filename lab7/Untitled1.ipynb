{
 "cells": [
  {
   "cell_type": "code",
   "execution_count": 176,
   "metadata": {},
   "outputs": [],
   "source": [
    "from aeskeyexp import aes128_lastroundkey\n",
    "from Crypto.Hash import HMAC\n",
    "from Crypto.Cipher import AES\n",
    "from Crypto.Hash import SHA as SHA1\n",
    "from Crypto.Util.strxor import strxor\n",
    "from binascii import unhexlify,hexlify\n",
    "import sys\n",
    "import re\n",
    "\n"
   ]
  },
  {
   "cell_type": "code",
   "execution_count": 177,
   "metadata": {
    "collapsed": true
   },
   "outputs": [],
   "source": [
    "Sbox = [\n",
    "0x63,0x7c,0x77,0x7b,0xf2,0x6b,0x6f,0xc5,0x30,0x01,0x67,0x2b,0xfe,0xd7,0xab,0x76,\n",
    "0xca,0x82,0xc9,0x7d,0xfa,0x59,0x47,0xf0,0xad,0xd4,0xa2,0xaf,0x9c,0xa4,0x72,0xc0,\n",
    "0xb7,0xfd,0x93,0x26,0x36,0x3f,0xf7,0xcc,0x34,0xa5,0xe5,0xf1,0x71,0xd8,0x31,0x15,\n",
    "0x04,0xc7,0x23,0xc3,0x18,0x96,0x05,0x9a,0x07,0x12,0x80,0xe2,0xeb,0x27,0xb2,0x75,\n",
    "0x09,0x83,0x2c,0x1a,0x1b,0x6e,0x5a,0xa0,0x52,0x3b,0xd6,0xb3,0x29,0xe3,0x2f,0x84,\n",
    "0x53,0xd1,0x00,0xed,0x20,0xfc,0xb1,0x5b,0x6a,0xcb,0xbe,0x39,0x4a,0x4c,0x58,0xcf,\n",
    "0xd0,0xef,0xaa,0xfb,0x43,0x4d,0x33,0x85,0x45,0xf9,0x02,0x7f,0x50,0x3c,0x9f,0xa8,\n",
    "0x51,0xa3,0x40,0x8f,0x92,0x9d,0x38,0xf5,0xbc,0xb6,0xda,0x21,0x10,0xff,0xf3,0xd2,\n",
    "0xcd,0x0c,0x13,0xec,0x5f,0x97,0x44,0x17,0xc4,0xa7,0x7e,0x3d,0x64,0x5d,0x19,0x73,\n",
    "0x60,0x81,0x4f,0xdc,0x22,0x2a,0x90,0x88,0x46,0xee,0xb8,0x14,0xde,0x5e,0x0b,0xdb,\n",
    "0xe0,0x32,0x3a,0x0a,0x49,0x06,0x24,0x5c,0xc2,0xd3,0xac,0x62,0x91,0x95,0xe4,0x79,\n",
    "0xe7,0xc8,0x37,0x6d,0x8d,0xd5,0x4e,0xa9,0x6c,0x56,0xf4,0xea,0x65,0x7a,0xae,0x08,\n",
    "0xba,0x78,0x25,0x2e,0x1c,0xa6,0xb4,0xc6,0xe8,0xdd,0x74,0x1f,0x4b,0xbd,0x8b,0x8a,\n",
    "0x70,0x3e,0xb5,0x66,0x48,0x03,0xf6,0x0e,0x61,0x35,0x57,0xb9,0x86,0xc1,0x1d,0x9e,\n",
    "0xe1,0xf8,0x98,0x11,0x69,0xd9,0x8e,0x94,0x9b,0x1e,0x87,0xe9,0xce,0x55,0x28,0xdf,\n",
    "0x8c,0xa1,0x89,0x0d,0xbf,0xe6,0x42,0x68,0x41,0x99,0x2d,0x0f,0xb0,0x54,0xbb,0x16 ]"
   ]
  },
  {
   "cell_type": "code",
   "execution_count": 447,
   "metadata": {
    "collapsed": true
   },
   "outputs": [],
   "source": [
    "Sinv = [\n",
    "0x52, 0x09, 0x6a, 0xd5, 0x30, 0x36, 0xa5, 0x38, 0xbf, 0x40, 0xa3, 0x9e, 0x81, 0xf3, 0xd7, 0xfb,\n",
    "0x7c, 0xe3, 0x39, 0x82, 0x9b, 0x2f, 0xff, 0x87, 0x34, 0x8e, 0x43, 0x44, 0xc4, 0xde, 0xe9, 0xcb,\n",
    "0x54, 0x7b, 0x94, 0x32, 0xa6, 0xc2, 0x23, 0x3d, 0xee, 0x4c, 0x95, 0x0b, 0x42, 0xfa, 0xc3, 0x4e,\n",
    "0x08, 0x2e, 0xa1, 0x66, 0x28, 0xd9, 0x24, 0xb2, 0x76, 0x5b, 0xa2, 0x49, 0x6d, 0x8b, 0xd1, 0x25,\n",
    "0x72, 0xf8, 0xf6, 0x64, 0x86, 0x68, 0x98, 0x16, 0xd4, 0xa4, 0x5c, 0xcc, 0x5d, 0x65, 0xb6, 0x92,\n",
    "0x6c, 0x70, 0x48, 0x50, 0xfd, 0xed, 0xb9, 0xda, 0x5e, 0x15, 0x46, 0x57, 0xa7, 0x8d, 0x9d, 0x84,\n",
    "0x90, 0xd8, 0xab, 0x00, 0x8c, 0xbc, 0xd3, 0x0a, 0xf7, 0xe4, 0x58, 0x05, 0xb8, 0xb3, 0x45, 0x06,\n",
    "0xd0, 0x2c, 0x1e, 0x8f, 0xca, 0x3f, 0x0f, 0x02, 0xc1, 0xaf, 0xbd, 0x03, 0x01, 0x13, 0x8a, 0x6b,\n",
    "0x3a, 0x91, 0x11, 0x41, 0x4f, 0x67, 0xdc, 0xea, 0x97, 0xf2, 0xcf, 0xce, 0xf0, 0xb4, 0xe6, 0x73,\n",
    "0x96, 0xac, 0x74, 0x22, 0xe7, 0xad, 0x35, 0x85, 0xe2, 0xf9, 0x37, 0xe8, 0x1c, 0x75, 0xdf, 0x6e,\n",
    "0x47, 0xf1, 0x1a, 0x71, 0x1d, 0x29, 0xc5, 0x89, 0x6f, 0xb7, 0x62, 0x0e, 0xaa, 0x18, 0xbe, 0x1b,\n",
    "0xfc, 0x56, 0x3e, 0x4b, 0xc6, 0xd2, 0x79, 0x20, 0x9a, 0xdb, 0xc0, 0xfe, 0x78, 0xcd, 0x5a, 0xf4,\n",
    "0x1f, 0xdd, 0xa8, 0x33, 0x88, 0x07, 0xc7, 0x31, 0xb1, 0x12, 0x10, 0x59, 0x27, 0x80, 0xec, 0x5f,\n",
    "0x60, 0x51, 0x7f, 0xa9, 0x19, 0xb5, 0x4a, 0x0d, 0x2d, 0xe5, 0x7a, 0x9f, 0x93, 0xc9, 0x9c, 0xef,\n",
    "0xa0, 0xe0, 0x3b, 0x4d, 0xae, 0x2a, 0xf5, 0xb0, 0xc8, 0xeb, 0xbb, 0x3c, 0x83, 0x53, 0x99, 0x61,\n",
    "0x17, 0x2b, 0x04, 0x7e, 0xba, 0x77, 0xd6, 0x26, 0xe1, 0x69, 0x14, 0x63, 0x55, 0x21, 0x0c, 0x7d]\n",
    "\n",
    "\n",
    "def leaky_encipher(key, A):\n",
    "    # Let me denote the state in AES as follows:\n",
    "    # A = input to AES\n",
    "    # Z = enciphering of A (aka, result after applying all 10 rounds)\n",
    "    # Y = value just before the final AddRoundKey\n",
    "    # X = value at the beginning of the 10th round, before ShiftRows and SubBytes as well (remember: the final round lacks MixColumns)\n",
    "    \n",
    "    # So the final round of AES looks like this:\n",
    "    # X -> [SubBytes] -> [ShiftRows] -> Y -> [AddRoundKey, aka strxor with lastroundkey] -> Z\n",
    "    \n",
    "    # First, perform all 10 rounds of AES\n",
    "    assert(len(A) == 16)\n",
    "    permutation = AES.new(key, AES.MODE_ECB)\n",
    "    Z = permutation.encrypt(A)               # This is the desired output! Now we just have to simulate the cache lines...\n",
    "    \n",
    "    # Now go back one round of AES, from the end back to the beginning. We begin with AddRoundKey, which is its own inverse.\n",
    "    lastroundkey = aes128_lastroundkey(key)  # This is the key used in the final xor step of AES. You need the aeskeyexp helper file for this.\n",
    "    Y = strxor(Z, lastroundkey)              # xor is its own inverse\n",
    "    #print(\"key\",lastroundkey)\n",
    "    Yvec = [ord(i) for i in Y]               # Transform the string into a vector of bytes\n",
    "    #print(\"Yvec\",Yvec)\n",
    "    \n",
    "    sinv_yvec = [Sinv[y] for y in Yvec]\n",
    "    \n",
    "    # ShiftRows is irrelevant here because it merely permutes the order of bytes, and we won't care about that when we output a set.\n",
    "    # So it remains to perform an inverse SubBytes operation.\n",
    "    #X = frozenset(map(Sinv, Yvec)) # Apply Sinv to each byte of the state, and form the *set* of resulting values\n",
    "    X = frozenset(sinv_yvec)\n",
    "    \n",
    "    # Return both the ciphertext and the set of bytes at the start of the 10th round\n",
    "    return [Z, X]\n",
    "\n",
    "\n",
    "def less_leaky_encipher(key, A):\n",
    "    # I use the variables A, X, Y, and Z here just as in the previous routine\n",
    "    \n",
    "    # Let's compute Yvec just as we did before.\n",
    "    assert(len(A) == 16)\n",
    "    permutation = AES.new(key, AES.MODE_ECB)\n",
    "    Z = permutation.encrypt(A)\n",
    "    lastroundkey = aes128_lastroundkey(key)\n",
    "    #print(\"key\",lastroundkey)\n",
    "    Y = strxor(Z, lastroundkey)\n",
    "    Yvec = [ord(i) for i in Y]\n",
    "    \n",
    "    # Now we invert the SubBytes operation, but only store the set of the upper 4 bits of the result\n",
    "    #Xvec = map(Sinv, Yvec)                       # This is the *list* of full bytes at the start of the 10th round\n",
    "    Xvec = [Sinv[y] for y in Yvec]\n",
    "    \n",
    "    X = frozenset( map(lambda x: x >> 4, Xvec) ) # And now we form the *set* of values with the lower 4 bits truncated\n",
    "    \n",
    "    # Return the enciphering of A together with the *set* of cache lines accessed in round 10\n",
    "    return [Z, X]"
   ]
  },
  {
   "cell_type": "code",
   "execution_count": 454,
   "metadata": {
    "scrolled": true
   },
   "outputs": [
    {
     "name": "stdout",
     "output_type": "stream",
     "text": [
      "('key', 'O\\x13\\xf72}\\xd3\\x91v/\\xc72Z]\\xfaA\\x13')\n",
      "('key', 'O\\x13\\xf72}\\xd3\\x91v/\\xc72Z]\\xfaA\\x13')\n",
      "('key', 'O\\x13\\xf72}\\xd3\\x91v/\\xc72Z]\\xfaA\\x13')\n",
      "('key', 'O\\x13\\xf72}\\xd3\\x91v/\\xc72Z]\\xfaA\\x13')\n",
      "('key', 'O\\x13\\xf72}\\xd3\\x91v/\\xc72Z]\\xfaA\\x13')\n"
     ]
    },
    {
     "data": {
      "text/plain": [
       "'4f13f7327dd391762fc7325a5dfa4113'"
      ]
     },
     "execution_count": 454,
     "metadata": {},
     "output_type": "execute_result"
    }
   ],
   "source": [
    "def question1(key):\n",
    "    # first creating 5 Ciphertext,and  Ys\n",
    "    \n",
    "    Z1= leaky_encipher(key,b'mydataizbadsorry')\n",
    "    \n",
    "    C1=hexlify(Z1[0])\n",
    "    \n",
    "    C1 = re.findall('..',C1)\n",
    "    X1 = list(Z1[1])\n",
    "    Y1 = [Sbox[x] for x in X1]\n",
    "    \n",
    "    \n",
    "    Z2 = leaky_encipher(key,b'mydataisbadsorrz')\n",
    "    C2 = hexlify(Z2[0])\n",
    "    C2 = re.findall('..',C2)\n",
    "    X2 = list(Z2[1])\n",
    "    Y2 = [Sbox[x] for x in X2]\n",
    "    \n",
    "    Z3 = leaky_encipher(key,b'cydataisbadsorrz')\n",
    "    C3 = hexlify(Z3[0])\n",
    "    C3 = re.findall('..',C3)\n",
    "    X3 = list(Z3[1])\n",
    "    Y3 = [Sbox[x] for x in X3]\n",
    "    \n",
    "    Z4 = leaky_encipher(key,b'czdataisbadsorrz')\n",
    "    C4 = hexlify(Z4[0])\n",
    "    C4 = re.findall('..',C4)\n",
    "    X4 = list(Z4[1])\n",
    "    Y4 = [Sbox[x] for x in X4]\n",
    "    \n",
    "    Z5 = leaky_encipher(key,b'czdataisbadsorry')\n",
    "    C5 = hexlify(Z5[0])\n",
    "    C5 = re.findall('..',C5)\n",
    "    X5 = list(Z5[1])\n",
    "    Y5 = [Sbox[x] for x in X5]\n",
    "    \n",
    "    \n",
    "    answer=\"\"\n",
    "    \n",
    "    for i in range(0,16):\n",
    "        for y1 in Y1:\n",
    "            c1 = C1[i]\n",
    "            keyi = (y1^int(c1,16))\n",
    "            c2 = C2[i]\n",
    "            c3 = C3[i]\n",
    "            c4 = C4[i]\n",
    "            c5 = C5[i]\n",
    "            if keyi^int(c2,16) in Y2:\n",
    "                if keyi^int(c3,16) in Y3:\n",
    "                    if keyi^int(c4,16) in Y4:\n",
    "                        if keyi^int(c5,16) in Y5:\n",
    "                            hex_keyi = (hex(keyi)[2:])\n",
    "                            #print(hex_keyi)\n",
    "                            if len(hex_keyi)==1: # if we get single len hex we need to add 0 so that 1 become 01, f becomes 0f etc\n",
    "                                 hex_keyi = \"0\"+hex_keyi\n",
    "                            answer = answer + hex_keyi        \n",
    "                                    \n",
    "                            \n",
    "    return(answer)\n",
    "    \n",
    "question1(b'mykeyiswonde0112')    \n",
    "    "
   ]
  },
  {
   "cell_type": "code",
   "execution_count": 455,
   "metadata": {},
   "outputs": [
    {
     "data": {
      "text/plain": [
       "'4f13f7327dd391762fc7325a5dfa4113'"
      ]
     },
     "execution_count": 455,
     "metadata": {},
     "output_type": "execute_result"
    }
   ],
   "source": [
    "hexlify(\"O\\x13\\xf72}\\xd3\\x91v/\\xc72Z]\\xfaA\\x13\")"
   ]
  },
  {
   "cell_type": "code",
   "execution_count": 449,
   "metadata": {},
   "outputs": [
    {
     "data": {
      "text/plain": [
       "['v\\xc4?\\x8f#\\x07W \\xb3l\\xf8\\xe9\\xb9x\\xa3\\x9a',\n",
       " frozenset({0, 1, 2, 3, 4, 5, 8, 11, 12, 13})]"
      ]
     },
     "execution_count": 449,
     "metadata": {},
     "output_type": "execute_result"
    }
   ],
   "source": [
    "less_leaky_encipher(b'mykeyiswonderfuz',b'mydataisbadsorra')"
   ]
  },
  {
   "cell_type": "code",
   "execution_count": 450,
   "metadata": {},
   "outputs": [
    {
     "name": "stdout",
     "output_type": "stream",
     "text": [
      "fa\n",
      "b8\n",
      "a7\n",
      "fd\n",
      "45\n",
      "77\n",
      "96\n",
      "3e\n",
      "7d\n",
      "d\n",
      "1b\n",
      "92\n",
      "39\n",
      "a9\n",
      "4\n",
      "25\n"
     ]
    },
    {
     "data": {
      "text/plain": [
       "'fab8a7fd4577963e7d0d1b9239a90425'"
      ]
     },
     "execution_count": 450,
     "metadata": {},
     "output_type": "execute_result"
    }
   ],
   "source": [
    "def question2(key):\n",
    "    ''' going overkill'''\n",
    "    Z1= less_leaky_encipher(key,b'mydataizbadsorrz')\n",
    "    \n",
    "    C1=hexlify(Z1[0])\n",
    "    \n",
    "    C1 = re.findall('..',C1)\n",
    "    X1 = list(Z1[1])\n",
    "    X1 = [(x<<4)+i for x in X1 for i in range(0,16)]\n",
    "    Y1 = [Sbox[(x)] for x in X1]\n",
    "    \n",
    "    \n",
    "\n",
    "    \n",
    "    Z2 = less_leaky_encipher(key,b'mydataisbadsorrz')\n",
    "    C2 = hexlify(Z2[0])\n",
    "    C2 = re.findall('..',C2)\n",
    "    X2 = list(Z2[1])\n",
    "    X2 = [(x<<4)+i for x in X2 for i in range(0,16)]\n",
    "    Y2 = [Sbox[(x)] for x in X2]\n",
    "    \n",
    "    \n",
    "    \n",
    "    Z3 = less_leaky_encipher(key,b'cydataisbadsorrz')\n",
    "    C3 = hexlify(Z3[0])\n",
    "    C3 = re.findall('..',C3)\n",
    "    X3 = list(Z3[1])\n",
    "    X3 = [(x<<4)+i for x in X3 for i in range(0,16)]\n",
    "    Y3 = [Sbox[(x)] for x in X3]\n",
    "   \n",
    "    \n",
    "    Z4 = less_leaky_encipher(key,b'czdataisbadsorrz')\n",
    "    C4 = hexlify(Z4[0])\n",
    "    C4 = re.findall('..',C4)\n",
    "    X4 = list(Z4[1])\n",
    "    X4 = [(x<<4)+i for x in X4 for i in range(0,16)]\n",
    "    Y4 = [Sbox[(x)] for x in X4]\n",
    "    \n",
    "    Z5 = less_leaky_encipher(key,b'czdataisbadsorry')\n",
    "    C5 = hexlify(Z5[0])\n",
    "    C5 = re.findall('..',C5)\n",
    "    X5 = list(Z5[1])\n",
    "    X5 = [(x<<4)+i for x in X5 for i in range(0,16)]\n",
    "    Y5 = [Sbox[(x)] for x in X5]\n",
    "    \n",
    "    Z6 = less_leaky_encipher(key,b'czdataisbadsorr1')\n",
    "    C6 = hexlify(Z6[0])\n",
    "    C6 = re.findall('..',C6)\n",
    "    X6 = list(Z6[1])\n",
    "    X6 = [(x<<4)+i for x in X6 for i in range(0,16)]\n",
    "    Y6 = [Sbox[(x)] for x in X6]\n",
    "    \n",
    "    \n",
    "    Z7 = less_leaky_encipher(key,b'czdataisbadsorr2')\n",
    "    C7 = hexlify(Z7[0])\n",
    "    C7 = re.findall('..',C7)\n",
    "    X7 = list(Z7[1])\n",
    "    X7 = [(x<<4)+i for x in X7 for i in range(0,16)]\n",
    "    Y7 = [Sbox[(x)] for x in X7]\n",
    "    \n",
    "    Z8 = less_leaky_encipher(key,b'czdataisbadsorr3')\n",
    "    C8 = hexlify(Z8[0])\n",
    "    C8 = re.findall('..',C8)\n",
    "    X8 = list(Z8[1])\n",
    "    X8 = [(x<<4)+i for x in X8 for i in range(0,16)]\n",
    "    Y8 = [Sbox[(x)] for x in X8]\n",
    "    \n",
    "    Z9 = less_leaky_encipher(key,b'czdataisbadsorr4')\n",
    "    C9 = hexlify(Z9[0])\n",
    "    C9 = re.findall('..',C9)\n",
    "    X9 = list(Z9[1])\n",
    "    X9 = [(x<<4)+i for x in X9 for i in range(0,16)]\n",
    "    Y9 = [Sbox[(x)] for x in X9]\n",
    "    \n",
    "    Z10 = less_leaky_encipher(key,b'czdataisbadsorr5')\n",
    "    C10 = hexlify(Z10[0])\n",
    "    C10 = re.findall('..',C10)\n",
    "    X10 = list(Z10[1])\n",
    "    X10 = [(x<<4)+i for x in X10 for i in range(0,16)]\n",
    "    Y10 = [Sbox[(x)] for x in X10]\n",
    "    \n",
    "    Z11 = less_leaky_encipher(key,b'czdataisbadsorr6')\n",
    "    C11 = hexlify(Z11[0])\n",
    "    C11 = re.findall('..',C11)\n",
    "    X11 = list(Z11[1])\n",
    "    X11 = [(x<<4)+i for x in X11 for i in range(0,16)]\n",
    "    Y11 = [Sbox[(x)] for x in X11]\n",
    "    \n",
    "    Z12 = less_leaky_encipher(key,b'czdataisbadsorr7')\n",
    "    C12 = hexlify(Z12[0])\n",
    "    C12 = re.findall('..',C12)\n",
    "    X12 = list(Z12[1])\n",
    "    X12 = [(x<<4)+i for x in X12 for i in range(0,16)]\n",
    "    Y12 = [Sbox[(x)] for x in X12]\n",
    "    \n",
    "    Z13 = less_leaky_encipher(key,b'czdataisbadsorrh')\n",
    "    C13 = hexlify(Z13[0])\n",
    "    C13 = re.findall('..',C13)\n",
    "    X13 = list(Z13[1])\n",
    "    X13 = [(x<<4)+i for x in X13 for i in range(0,16)]\n",
    "    Y13 = [Sbox[(x)] for x in X13]\n",
    "    \n",
    "    Z14 = less_leaky_encipher(key,b'czdataisbadsorri')\n",
    "    C14 = hexlify(Z14[0])\n",
    "    C14 = re.findall('..',C14)\n",
    "    X14 = list(Z14[1])\n",
    "    X14 = [(x<<4)+i for x in X14 for i in range(0,16)]\n",
    "    Y14 = [Sbox[(x)] for x in X14]\n",
    "    \n",
    "    Z15 = less_leaky_encipher(key,b'czdataisbadsorrj')\n",
    "    C15 = hexlify(Z15[0])\n",
    "    C15 = re.findall('..',C15)\n",
    "    X15 = list(Z15[1])\n",
    "    X15 = [(x<<4)+i for x in X15 for i in range(0,16)]\n",
    "    Y15 = [Sbox[(x)] for x in X15]\n",
    "    \n",
    "    Z16 = less_leaky_encipher(key,b'czdataisbadsorrk')\n",
    "    C16 = hexlify(Z16[0])\n",
    "    C16 = re.findall('..',C16)\n",
    "    X16 = list(Z16[1])\n",
    "    X16 = [(x<<4)+i for x in X16 for i in range(0,16)]\n",
    "    Y16 = [Sbox[(x)] for x in X16]\n",
    "    \n",
    "    Z17 = less_leaky_encipher(key,b'czdataisbadsorrl')\n",
    "    C17 = hexlify(Z17[0])\n",
    "    C17 = re.findall('..',C17)\n",
    "    X17 = list(Z17[1])\n",
    "    X17 = [(x<<4)+i for x in X17 for i in range(0,16)]\n",
    "    Y17 = [Sbox[(x)] for x in X17]\n",
    "    \n",
    "    Z18 = less_leaky_encipher(key,b'czdataisbadsorrm')\n",
    "    C18 = hexlify(Z18[0])\n",
    "    C18 = re.findall('..',C18)\n",
    "    X18 = list(Z18[1])\n",
    "    X18 = [(x<<4)+i for x in X18 for i in range(0,16)]\n",
    "    Y18 = [Sbox[(x)] for x in X18]\n",
    "    \n",
    "    Z19 = less_leaky_encipher(key,b'czdataisbadsorrn')\n",
    "    C19 = hexlify(Z19[0])\n",
    "    C19 = re.findall('..',C19)\n",
    "    X19 = list(Z19[1])\n",
    "    X19 = [(x<<4)+i for x in X19 for i in range(0,16)]\n",
    "    Y19 = [Sbox[(x)] for x in X19]\n",
    "    \n",
    "    Z20 = less_leaky_encipher(key,b'czdataisbadsorr0')\n",
    "    C20 = hexlify(Z20[0])\n",
    "    C20 = re.findall('..',C20)\n",
    "    X20 = list(Z20[1])\n",
    "    X20 = [(x<<4)+i for x in X20 for i in range(0,16)]\n",
    "    Y20 = [Sbox[(x)] for x in X20]\n",
    "    \n",
    "    Z21 = less_leaky_encipher(key,b'czdataisbadsorro')\n",
    "    C21 = hexlify(Z21[0])\n",
    "    C21 = re.findall('..',C21)\n",
    "    X21 = list(Z21[1])\n",
    "    X21 = [(x<<4)+i for x in X21 for i in range(0,16)]\n",
    "    Y21 = [Sbox[(x)] for x in X21]\n",
    "    \n",
    "    Z22 = less_leaky_encipher(key,b'czdataisbadsorrp')\n",
    "    C22 = hexlify(Z22[0])\n",
    "    C22 = re.findall('..',C22)\n",
    "    X22 = list(Z22[1])\n",
    "    X22 = [(x<<4)+i for x in X22 for i in range(0,16)]\n",
    "    Y22 = [Sbox[(x)] for x in X22]\n",
    "    \n",
    "    Z23 = less_leaky_encipher(key,b'czdataisbadsorrq')\n",
    "    C23 = hexlify(Z23[0])\n",
    "    C23 = re.findall('..',C23)\n",
    "    X23 = list(Z23[1])\n",
    "    X23 = [(x<<4)+i for x in X23 for i in range(0,16)]\n",
    "    Y23 = [Sbox[(x)] for x in X23]\n",
    "    \n",
    "    Z24 = less_leaky_encipher(key,b'czdataisbadsorrr')\n",
    "    C24 = hexlify(Z24[0])\n",
    "    C24 = re.findall('..',C24)\n",
    "    X24 = list(Z24[1])\n",
    "    X24 = [(x<<4)+i for x in X24 for i in range(0,16)]\n",
    "    Y24 = [Sbox[(x)] for x in X24]\n",
    "    \n",
    "    Z25 = less_leaky_encipher(key,b'czdataisbadsorrs')\n",
    "    C25 = hexlify(Z25[0])\n",
    "    C25 = re.findall('..',C25)\n",
    "    X25 = list(Z25[1])\n",
    "    X25 = [(x<<4)+i for x in X25 for i in range(0,16)]\n",
    "    Y25 = [Sbox[(x)] for x in X25]\n",
    "    \n",
    "    Z26 = less_leaky_encipher(key,b'czdataisbadsorrt')\n",
    "    C26 = hexlify(Z26[0])\n",
    "    C26 = re.findall('..',C26)\n",
    "    X26 = list(Z26[1])\n",
    "    X26 = [(x<<4)+i for x in X26 for i in range(0,16)]\n",
    "    Y26 = [Sbox[(x)] for x in X26]\n",
    "    \n",
    "    Z27 = less_leaky_encipher(key,b'czdataisbadsorru')\n",
    "    C27 = hexlify(Z27[0])\n",
    "    C27 = re.findall('..',C27)\n",
    "    X27 = list(Z27[1])\n",
    "    X27 = [(x<<4)+i for x in X27 for i in range(0,16)]\n",
    "    Y27 = [Sbox[(x)] for x in X27]\n",
    "    \n",
    "    Z28 = less_leaky_encipher(key,b'czdataisbadsorrv')\n",
    "    C28 = hexlify(Z28[0])\n",
    "    C28 = re.findall('..',C28)\n",
    "    X28 = list(Z28[1])\n",
    "    X28 = [(x<<4)+i for x in X28 for i in range(0,16)]\n",
    "    Y28 = [Sbox[(x)] for x in X28]\n",
    "    \n",
    "    Z29 = less_leaky_encipher(key,b'czdataisbadsorrw')\n",
    "    C29 = hexlify(Z29[0])\n",
    "    C29 = re.findall('..',C29)\n",
    "    X29 = list(Z29[1])\n",
    "    X29 = [(x<<4)+i for x in X29 for i in range(0,16)]\n",
    "    Y29 = [Sbox[(x)] for x in X29]\n",
    "    \n",
    "    Z30 = less_leaky_encipher(key,b'czdataisbadsorrx')\n",
    "    C30 = hexlify(Z30[0])\n",
    "    C30 = re.findall('..',C30)\n",
    "    X30 = list(Z30[1])\n",
    "    X30 = [(x<<4)+i for x in X30 for i in range(0,16)]\n",
    "    Y30 = [Sbox[(x)] for x in X30]\n",
    "    \n",
    "    Z31 = less_leaky_encipher(key,b'czdataisbadsor11')\n",
    "    C31 = hexlify(Z31[0])\n",
    "    C31 = re.findall('..',C31)\n",
    "    X31 = list(Z31[1])\n",
    "    X31 = [(x<<4)+i for x in X31 for i in range(0,16)]\n",
    "    Y31 = [Sbox[(x)] for x in X31]\n",
    "    \n",
    "    Z32 = less_leaky_encipher(key,b'czdataisbadsor12')\n",
    "    C32 = hexlify(Z32[0])\n",
    "    C32 = re.findall('..',C32)\n",
    "    X32 = list(Z32[1])\n",
    "    X32 = [(x<<4)+i for x in X32 for i in range(0,16)]\n",
    "    Y32 = [Sbox[(x)] for x in X32]\n",
    "    \n",
    "    Z33 = less_leaky_encipher(key,b'czdataisbadsor13')\n",
    "    C33 = hexlify(Z33[0])\n",
    "    C33 = re.findall('..',C33)\n",
    "    X33 = list(Z33[1])\n",
    "    X33 = [(x<<4)+i for x in X33 for i in range(0,16)]\n",
    "    Y33 = [Sbox[(x)] for x in X33]\n",
    "    \n",
    "    Z34 = less_leaky_encipher(key,b'czdataisbadsor14')\n",
    "    C34 = hexlify(Z34[0])\n",
    "    C34 = re.findall('..',C34)\n",
    "    X34 = list(Z34[1])\n",
    "    X34 = [(x<<4)+i for x in X34 for i in range(0,16)]\n",
    "    Y34 = [Sbox[(x)] for x in X34]\n",
    "    \n",
    "    Z35 = less_leaky_encipher(key,b'czdataisbadsor15')\n",
    "    C35 = hexlify(Z35[0])\n",
    "    C35 = re.findall('..',C35)\n",
    "    X35 = list(Z35[1])\n",
    "    X35 = [(x<<4)+i for x in X35 for i in range(0,16)]\n",
    "    Y35 = [Sbox[(x)] for x in X35]\n",
    "    \n",
    "    Z36 = less_leaky_encipher(key,b'czdataisbadsor16')\n",
    "    C36 = hexlify(Z36[0])\n",
    "    C36 = re.findall('..',C36)\n",
    "    X36 = list(Z36[1])\n",
    "    X36 = [(x<<4)+i for x in X36 for i in range(0,16)]\n",
    "    Y36 = [Sbox[(x)] for x in X36]\n",
    "    \n",
    "    Z37 = less_leaky_encipher(key,b'czdataisbadsor17')\n",
    "    C37 = hexlify(Z37[0])\n",
    "    C37 = re.findall('..',C37)\n",
    "    X37 = list(Z37[1])\n",
    "    X37 = [(x<<4)+i for x in X37 for i in range(0,16)]\n",
    "    Y37 = [Sbox[(x)] for x in X37]\n",
    "    \n",
    "    Z38 = less_leaky_encipher(key,b'czdataisbadsor18')\n",
    "    C38 = hexlify(Z38[0])\n",
    "    C38 = re.findall('..',C38)\n",
    "    X38 = list(Z38[1])\n",
    "    X38 = [(x<<4)+i for x in X38 for i in range(0,16)]\n",
    "    Y38 = [Sbox[(x)] for x in X38]\n",
    "    \n",
    "   \n",
    "    \n",
    "    Z39 = less_leaky_encipher(key,b'czdataisbadsor19')\n",
    "    C39 = hexlify(Z39[0])\n",
    "    C39 = re.findall('..',C39)\n",
    "    X39 = list(Z39[1])\n",
    "    X39 = [(x<<4)+i for x in X39 for i in range(0,16)]\n",
    "    Y39 = [Sbox[(x)] for x in X39]\n",
    "    \n",
    "    Z40 = less_leaky_encipher(key,b'czdataisbadsor20')\n",
    "    C40 = hexlify(Z40[0])\n",
    "    C40 = re.findall('..',C40)\n",
    "    X40 = list(Z40[1])\n",
    "    X40 = [(x<<4)+i for x in X40 for i in range(0,16)]\n",
    "    Y40 = [Sbox[(x)] for x in X40]\n",
    "    \n",
    "    \n",
    "    \n",
    "    \n",
    "    \n",
    "    \n",
    "    \n",
    "    \n",
    "    answer=\"\"\n",
    "    \n",
    "    for i in range(0,16):\n",
    "        for y1 in Y1:\n",
    "            \n",
    "                c1 = C1[i]\n",
    "                #print(\"c1\",\"{0:b}\".format((int(c1,16))))\n",
    "                #print(\"c1-after\",\"{0:b}\".format((int(c1,16))>>4))\n",
    "                \n",
    "                keyi = (y1^(int(c1,16)))\n",
    "                c2 = C2[i]\n",
    "                c3 = C3[i]\n",
    "                c4 = C4[i]\n",
    "                c5 = C5[i]\n",
    "                c6 = C6[i]\n",
    "                c7 = C7[i]\n",
    "                c8 = C8[i]\n",
    "                c9 = C9[i]\n",
    "                c10 = C10[i]\n",
    "                c11 = C11[i]\n",
    "                c12= C12[i]\n",
    "                c13 = C13[i]\n",
    "                c14 = C14[i]\n",
    "                c15= C15[i]\n",
    "                c16 = C16[i]\n",
    "                c17 = C17[i]\n",
    "                c18= C18[i]\n",
    "                c19= C19[i]\n",
    "                c20= C20[i]\n",
    "                c21= C21[i]\n",
    "                c22= C22[i]\n",
    "                c23= C23[i]\n",
    "                c24= C24[i]\n",
    "                c25= C25[i]\n",
    "                c26= C26[i]\n",
    "                c27= C27[i]\n",
    "                c28= C28[i]\n",
    "                c29= C29[i]\n",
    "                c30= C30[i]\n",
    "                c31= C31[i]\n",
    "                c32= C32[i]\n",
    "                c33= C33[i]\n",
    "                c34= C34[i]\n",
    "                c35= C35[i]\n",
    "                c36= C36[i]\n",
    "                c37= C37[i]\n",
    "                c38= C38[i]\n",
    "                c39= C39[i]\n",
    "                c40= C40[i]\n",
    "                \n",
    "                \n",
    "                \n",
    "                if keyi^(int(c2,16)) in Y2:\n",
    "                    if keyi^(int(c3,16)) in Y3:\n",
    "                        if keyi^(int(c4,16)) in Y4:\n",
    "                            if keyi^(int(c5,16)) in Y5:\n",
    "                                if keyi^(int(c6,16)) in Y6:\n",
    "                                    if keyi^(int(c7,16)) in Y7:\n",
    "                                        if keyi^(int(c8,16)) in Y8:\n",
    "                                            if keyi^(int(c9,16)) in Y9:\n",
    "                                                if keyi^(int(c10,16)) in Y10:\n",
    "                                                    if keyi^(int(c11,16)) in Y11:\n",
    "                                                        if keyi^(int(c12,16)) in Y12:\n",
    "                                                            if keyi^(int(c13,16)) in Y13:\n",
    "                                                                if keyi^(int(c14,16)) in Y14:\n",
    "                                                                    if keyi^(int(c15,16)) in Y15:\n",
    "                                                                        if keyi^(int(c16,16)) in Y16:\n",
    "                                                                            if keyi^(int(c17,16)) in Y17:\n",
    "                                                                                if keyi^(int(c18,16)) in Y18:\n",
    "                                                                                    if keyi^(int(c19,16)) in Y19:\n",
    "                                                                                        if keyi^(int(c20,16)) in Y20:\n",
    "                                                                                            if keyi^(int(c21,16)) in Y21:\n",
    "                                                                                                if keyi^(int(c22,16)) in Y22:\n",
    "                                                                                                    if keyi^(int(c23,16)) in Y23:\n",
    "                                                                                                        if keyi^(int(c24,16)) in Y24:\n",
    "                                                                                                            if keyi^(int(c25,16)) in Y25:\n",
    "                                                                                                                if keyi^(int(c26,16)) in Y26:\n",
    "                                                                                                                    if keyi^(int(c27,16)) in Y27:\n",
    "                                                                                                                        if keyi^(int(c28,16)) in Y28:\n",
    "                                                                                                                            if keyi^(int(c29,16)) in Y29:\n",
    "                                                                                                                                if keyi^(int(c30,16)) in Y30: \n",
    "                                                                                                                                    if keyi^(int(c31,16)) in Y31:\n",
    "                                                                                                                                        if keyi^(int(c32,16)) in Y32:\n",
    "                                                                                                                                            if keyi^(int(c33,16)) in Y33:\n",
    "                                                                                                                                                if keyi^(int(c34,16)) in Y34:\n",
    "                                                                                                                                                    if keyi^(int(c35,16)) in Y35:\n",
    "                                                                                                                                                        if keyi^(int(c36,16)) in Y36:\n",
    "                                                                                                                                                            if keyi^(int(c37,16)) in Y37:\n",
    "                                                                                                                                                                if keyi^(int(c38,16)) in Y38:\n",
    "                                                                                                                                                                    if keyi^(int(c39,16)) in Y39:\n",
    "                                                                                                                                                                        if keyi^(int(c40,16)) in Y40:\n",
    "\n",
    "                                                                                                                                                                            hex_keyi = (hex(keyi)[2:])\n",
    "                                                                                                                                                                            print(hex_keyi)\n",
    "                                                                                                                                                                            if len(hex_keyi)==1: # if we get single len hex we need to add 0 so that 1 become 01, f becomes 0f etc\n",
    "                                                                                                                                                                                 hex_keyi = \"0\"+hex_keyi\n",
    "                                                                                                                                                                            answer = answer + hex_keyi\n",
    "\n",
    "                                                                            \n",
    "                                                            \n",
    "                                \n",
    "                                \n",
    "                                \n",
    "                                \n",
    "                                \n",
    "                                \n",
    "                                \n",
    "                                \n",
    "                                \n",
    "                                \n",
    "                                \n",
    "                                \n",
    "    \n",
    "                \n",
    "    return(answer)    \n",
    "question2('mykeyiswonde0118')   \n",
    "    \n",
    "        \n",
    "                   \n",
    "\n",
    "\n"
   ]
  },
  {
   "cell_type": "code",
   "execution_count": 428,
   "metadata": {},
   "outputs": [
    {
     "data": {
      "text/plain": [
       "\"\\x7fVC\\xe0\\xa4~D\\x1948r'cnt\\xab\""
      ]
     },
     "execution_count": 428,
     "metadata": {},
     "output_type": "execute_result"
    }
   ],
   "source": []
  },
  {
   "cell_type": "code",
   "execution_count": 441,
   "metadata": {},
   "outputs": [
    {
     "data": {
      "text/plain": [
       "'fab8a7fd4577963e7d0d1b9239a90425'"
      ]
     },
     "execution_count": 441,
     "metadata": {},
     "output_type": "execute_result"
    }
   ],
   "source": [
    "hexlify(\"\\xfa\\xb8\\xa7\\xfdEw\\x96>}\\r\\x1b\\x929\\xa9\\x04%\")"
   ]
  },
  {
   "cell_type": "code",
   "execution_count": 172,
   "metadata": {},
   "outputs": [
    {
     "name": "stdout",
     "output_type": "stream",
     "text": [
      "0x70\n",
      "0xf2\n",
      "0xb5\n",
      "0xeb\n",
      "0x4b\n",
      "0xde\n",
      "0x78\n",
      "0x2f\n",
      "0x4a\n",
      "0xe0\n",
      "0x10\n",
      "0x80\n",
      "0xde\n",
      "0xf\n",
      "0x79\n",
      "0xe3\n"
     ]
    }
   ],
   "source": [
    "for i in [112, 242, 181, 235, 75, 222, 120, 47, 74, 224, 16, 128, 222, 15, 121, 227]:  #yvec\n",
    "    print(hex(i))"
   ]
  },
  {
   "cell_type": "code",
   "execution_count": 55,
   "metadata": {},
   "outputs": [
    {
     "data": {
      "text/plain": [
       "'0xf2'"
      ]
     },
     "execution_count": 55,
     "metadata": {},
     "output_type": "execute_result"
    }
   ],
   "source": [
    "hex(242)\n"
   ]
  },
  {
   "cell_type": "code",
   "execution_count": 167,
   "metadata": {},
   "outputs": [
    {
     "name": "stdout",
     "output_type": "stream",
     "text": [
      "(51, 102)\n",
      "(93, 141)\n",
      "(4, 48)\n",
      "(131, 65)\n",
      "(75, 204)\n",
      "(98, 171)\n",
      "(133, 103)\n",
      "(172, 170)\n",
      "(159, 110)\n",
      "(171, 14)\n",
      "(83, 80)\n",
      "(65, 248)\n",
      "(25, 142)\n",
      "(33, 123)\n",
      "(124, 1)\n",
      "(246, 214)\n"
     ]
    }
   ],
   "source": [
    "for i in [51, 93, 4, 131, 75, 98, 133, 172, 159, 171, 83, 65, 25, 33, 124, 246]:  #yvec\n",
    "    print(i,Sinv[i])\n",
    "\n"
   ]
  },
  {
   "cell_type": "code",
   "execution_count": 56,
   "metadata": {},
   "outputs": [
    {
     "data": {
      "text/plain": [
       "'0x7c'"
      ]
     },
     "execution_count": 56,
     "metadata": {},
     "output_type": "execute_result"
    }
   ],
   "source": [
    "hex(124)"
   ]
  },
  {
   "cell_type": "code",
   "execution_count": 134,
   "metadata": {},
   "outputs": [
    {
     "data": {
      "text/plain": [
       "True"
      ]
     },
     "execution_count": 134,
     "metadata": {},
     "output_type": "execute_result"
    }
   ],
   "source": [
    "1 in [1,2]"
   ]
  },
  {
   "cell_type": "code",
   "execution_count": 192,
   "metadata": {},
   "outputs": [
    {
     "data": {
      "text/plain": [
       "11"
      ]
     },
     "execution_count": 192,
     "metadata": {},
     "output_type": "execute_result"
    }
   ],
   "source": [
    "int('0b',16)"
   ]
  },
  {
   "cell_type": "code",
   "execution_count": 224,
   "metadata": {},
   "outputs": [
    {
     "data": {
      "text/plain": [
       "'0x64'"
      ]
     },
     "execution_count": 224,
     "metadata": {},
     "output_type": "execute_result"
    }
   ],
   "source": [
    "hex(100)"
   ]
  },
  {
   "cell_type": "code",
   "execution_count": 240,
   "metadata": {},
   "outputs": [
    {
     "name": "stdout",
     "output_type": "stream",
     "text": [
      "[frozenset(['a', 'c,'])]\n"
     ]
    }
   ],
   "source": [
    "sets=[frozenset({'a', 'c,'})]\n",
    "\n",
    "print([(x) for x in sets])"
   ]
  },
  {
   "cell_type": "code",
   "execution_count": 241,
   "metadata": {},
   "outputs": [
    {
     "data": {
      "text/plain": [
       "['a', 'c,']"
      ]
     },
     "execution_count": 241,
     "metadata": {},
     "output_type": "execute_result"
    }
   ],
   "source": [
    "list(frozenset({'a', 'c,'}))"
   ]
  },
  {
   "cell_type": "code",
   "execution_count": 313,
   "metadata": {},
   "outputs": [
    {
     "data": {
      "text/plain": [
       "65535"
      ]
     },
     "execution_count": 313,
     "metadata": {},
     "output_type": "execute_result"
    }
   ],
   "source": [
    "0XFFFF0000>>16"
   ]
  },
  {
   "cell_type": "code",
   "execution_count": 333,
   "metadata": {},
   "outputs": [
    {
     "data": {
      "text/plain": [
       "197"
      ]
     },
     "execution_count": 333,
     "metadata": {},
     "output_type": "execute_result"
    }
   ],
   "source": [
    "int('c5',16)"
   ]
  },
  {
   "cell_type": "code",
   "execution_count": 338,
   "metadata": {},
   "outputs": [
    {
     "data": {
      "text/plain": [
       "'100101'"
      ]
     },
     "execution_count": 338,
     "metadata": {},
     "output_type": "execute_result"
    }
   ],
   "source": [
    "\"{0:b}\".format(37)"
   ]
  },
  {
   "cell_type": "code",
   "execution_count": 369,
   "metadata": {},
   "outputs": [
    {
     "data": {
      "text/plain": [
       "str"
      ]
     },
     "execution_count": 369,
     "metadata": {},
     "output_type": "execute_result"
    }
   ],
   "source": [
    "type(bytes('hello'))"
   ]
  },
  {
   "cell_type": "code",
   "execution_count": null,
   "metadata": {
    "collapsed": true
   },
   "outputs": [],
   "source": [
    "Z26 = less_leaky_encipher(key,b'czdataisbadsorrt')\n",
    "    C26 = hexlify(Z26[0])\n",
    "    C26 = re.findall('..',C26)\n",
    "    X26 = list(Z26[1])\n",
    "    X26 = [(x<<4)+i for x in X26 for i in range(0,16)]\n",
    "    Y26 = [Sbox[(x)] for x in X26]\n",
    "    \n",
    "    Z27 = less_leaky_encipher(key,b'czdataisbadsorru')\n",
    "    C27 = hexlify(Z27[0])\n",
    "    C27 = re.findall('..',C27)\n",
    "    X27 = list(Z27[1])\n",
    "    X27 = [(x<<4)+i for x in X27 for i in range(0,16)]\n",
    "    Y27 = [Sbox[(x)] for x in X27]\n",
    "    \n",
    "    Z28 = less_leaky_encipher(key,b'czdataisbadsorrv')\n",
    "    C28 = hexlify(Z28[0])\n",
    "    C28 = re.findall('..',C28)\n",
    "    X28 = list(Z28[1])\n",
    "    X28 = [(x<<4)+i for x in X28 for i in range(0,16)]\n",
    "    Y28 = [Sbox[(x)] for x in X28]\n",
    "    \n",
    "    Z29 = less_leaky_encipher(key,b'czdataisbadsorrw')\n",
    "    C29 = hexlify(Z29[0])\n",
    "    C29 = re.findall('..',C29)\n",
    "    X29 = list(Z29[1])\n",
    "    X29 = [(x<<4)+i for x in X29 for i in range(0,16)]\n",
    "    Y29 = [Sbox[(x)] for x in X29]\n",
    "    \n",
    "    Z30 = less_leaky_encipher(key,b'czdataisbadsorrx')\n",
    "    C30 = hexlify(Z30[0])\n",
    "    C30 = re.findall('..',C30)\n",
    "    X30 = list(Z30[1])\n",
    "    X30 = [(x<<4)+i for x in X30 for i in range(0,16)]\n",
    "    Y30 = [Sbox[(x)] for x in X30]\n",
    "    \n",
    "    Z31 = less_leaky_encipher(key,b'czdataisbadsor11')\n",
    "    C31 = hexlify(Z31[0])\n",
    "    C31 = re.findall('..',C31)\n",
    "    X31 = list(Z31[1])\n",
    "    X31 = [(x<<4)+i for x in X31 for i in range(0,16)]\n",
    "    Y31 = [Sbox[(x)] for x in X31]\n",
    "    \n",
    "    Z32 = less_leaky_encipher(key,b'czdataisbadsor12')\n",
    "    C32 = hexlify(Z32[0])\n",
    "    C32 = re.findall('..',C32)\n",
    "    X32 = list(Z32[1])\n",
    "    X32 = [(x<<4)+i for x in X32 for i in range(0,16)]\n",
    "    Y32 = [Sbox[(x)] for x in X32]\n",
    "    \n",
    "    Z33 = less_leaky_encipher(key,b'czdataisbadsor13')\n",
    "    C33 = hexlify(Z33[0])\n",
    "    C33 = re.findall('..',C33)\n",
    "    X33 = list(Z33[1])\n",
    "    X33 = [(x<<4)+i for x in X33 for i in range(0,16)]\n",
    "    Y33 = [Sbox[(x)] for x in X33]\n",
    "    \n",
    "    Z34 = less_leaky_encipher(key,b'czdataisbadsor14')\n",
    "    C34 = hexlify(Z34[0])\n",
    "    C34 = re.findall('..',C34)\n",
    "    X34 = list(Z34[1])\n",
    "    X34 = [(x<<4)+i for x in X34 for i in range(0,16)]\n",
    "    Y34 = [Sbox[(x)] for x in X34]\n",
    "    \n",
    "    Z35 = less_leaky_encipher(key,b'czdataisbadsor15')\n",
    "    C35 = hexlify(Z35[0])\n",
    "    C35 = re.findall('..',C35)\n",
    "    X35 = list(Z35[1])\n",
    "    X35 = [(x<<4)+i for x in X35 for i in range(0,16)]\n",
    "    Y35 = [Sbox[(x)] for x in X35]\n",
    "    \n",
    "    Z36 = less_leaky_encipher(key,b'czdataisbadsorrn')\n",
    "    C36 = hexlify(Z36[0])\n",
    "    C36 = re.findall('..',C36)\n",
    "    X36 = list(Z36[1])\n",
    "    X36 = [(x<<4)+i for x in X36 for i in range(0,16)]\n",
    "    Y36 = [Sbox[(x)] for x in X36]\n",
    "    \n",
    "    Z37 = less_leaky_encipher(key,b'czdataisbadsorrn')\n",
    "    C37 = hexlify(Z37[0])\n",
    "    C37 = re.findall('..',C37)\n",
    "    X37 = list(Z37[1])\n",
    "    X37 = [(x<<4)+i for x in X37 for i in range(0,16)]\n",
    "    Y37 = [Sbox[(x)] for x in X37]\n",
    "    \n",
    "    Z38 = less_leaky_encipher(key,b'czdataisbadsorrn')\n",
    "    C38 = hexlify(Z38[0])\n",
    "    C38 = re.findall('..',C38)\n",
    "    X38 = list(Z38[1])\n",
    "    X38 = [(x<<4)+i for x in X38 for i in range(0,16)]\n",
    "    Y38 = [Sbox[(x)] for x in X38]\n",
    "    \n",
    "   \n",
    "    \n",
    "    Z39 = less_leaky_encipher(key,b'czdataisbadsorrn')\n",
    "    C39 = hexlify(Z39[0])\n",
    "    C39 = re.findall('..',C39)\n",
    "    X39 = list(Z39[1])\n",
    "    X39 = [(x<<4)+i for x in X39 for i in range(0,16)]\n",
    "    Y39 = [Sbox[(x)] for x in X39]\n",
    "    \n",
    "    Z40 = less_leaky_encipher(key,b'czdataisbadsorrn')\n",
    "    C40 = hexlify(Z40[0])\n",
    "    C40 = re.findall('..',C40)\n",
    "    X40 = list(Z40[1])\n",
    "    X40 = [(x<<4)+i for x in X40 for i in range(0,16)]\n",
    "    Y40 = [Sbox[(x)] for x in X40]\n",
    "    \n",
    "    \n",
    "                c26= C26[i]\n",
    "                c27= C27[i]\n",
    "                c28= C28[i]\n",
    "                c29= C29[i]\n",
    "                c30= C30[i]\n",
    "                c31= C31[i]\n",
    "                c32= C32[i]\n",
    "                c33= C33[i]\n",
    "                c34= C34[i]\n",
    "                c35= C35[i]\n",
    "                c36= C36[i]\n",
    "                c37= C37[i]\n",
    "                c38= C38[i]\n",
    "                c39= C39[i]\n",
    "                c40= C40[i]\n",
    "                \n",
    "                \n",
    "         if keyi^(int(c26,16)) in Y26:\n",
    "                                                                                                                    if keyi^(int(c27,16)) in Y27:\n",
    "                                                                                                                        if keyi^(int(c28,16)) in Y28:\n",
    "                                                                                                                            if keyi^(int(c29,16)) in Y29:\n",
    "                                                                                                                                if keyi^(int(c30,16)) in Y30: \n",
    "                                                                                                                                    if keyi^(int(c31,16)) in Y31:\n",
    "                                                                                                                                        if keyi^(int(c32,16)) in Y32:\n",
    "                                                                                                                                            if keyi^(int(c33,16)) in Y33:\n",
    "                                                                                                                                                if keyi^(int(c34,16)) in Y34:\n",
    "                                                                                                                                                    if keyi^(int(c35,16)) in Y35:\n",
    "                                                                                                                                                        if keyi^(int(c36,16)) in Y36:\n",
    "                                                                                                                                                            if keyi^(int(c37,16)) in Y37:\n",
    "                                                                                                                                                                if keyi^(int(c38,16)) in Y38:\n",
    "                                                                                                                                                                    if keyi^(int(c39,16)) in Y39:\n",
    "                                                                                                                                                                        if keyi^(int(c40,16)) in Y40:       \n",
    "    "
   ]
  }
 ],
 "metadata": {
  "kernelspec": {
   "display_name": "Python 2",
   "language": "python",
   "name": "python2"
  },
  "language_info": {
   "codemirror_mode": {
    "name": "ipython",
    "version": 2
   },
   "file_extension": ".py",
   "mimetype": "text/x-python",
   "name": "python",
   "nbconvert_exporter": "python",
   "pygments_lexer": "ipython2",
   "version": "2.7.13"
  }
 },
 "nbformat": 4,
 "nbformat_minor": 2
}
